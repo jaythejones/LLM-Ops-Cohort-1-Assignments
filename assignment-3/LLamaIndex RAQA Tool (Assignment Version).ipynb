{
 "cells": [
  {
   "cell_type": "markdown",
   "metadata": {},
   "source": [
    "# Creating a more robust RAQA system using LlamaIndex\n",
    "\n",
    "We'll be putting together a system for querying both qualitative and quantitative data using LlamaIndex. \n",
    "\n",
    "To stick to a theme, we'll continue to use BarbenHeimer data as our base - but this can, and should, be extended to other topics/domains.\n",
    "\n",
    "# Build 🏗️\n",
    "There are 3 main tasks in this notebook:\n",
    "\n",
    "- Create a Qualitative VectorStore query engine\n",
    "- Create a quantitative NLtoSQL query engine\n",
    "- Combine the two using LlamaIndex's OpenAI agent framework.\n",
    "\n",
    "# Ship 🚢\n",
    "Create an host a Gradio or Chainlit application to serve your project on Hugging Face spaces.\n",
    "\n",
    "# Share 🚀\n",
    "Make a social media post about your final application and tag @AIMakerspace"
   ]
  },
  {
   "cell_type": "markdown",
   "metadata": {},
   "source": [
    "### A note on terminology:\n",
    "\n",
    "You'll notice that there are quite a few similarities between LangChain and LlamaIndex. LlamaIndex can largely be thought of as an extension to LangChain, in some ways - but they moved some of the language around. Let's spend a few moments disambiguating the language.\n",
    "\n",
    "- `QueryEngine` -> `RetrievalQA`:\n",
    "  -  `QueryEngine` is just LlamaIndex's way of indicating something is an LLM \"chain\" on top of a retrieval system\n",
    "- `OpenAIAgent` vs. `ZeroShotAgent`:\n",
    "  - The two agents have the same fundamental pattern: Decide which of a list of tools to use to answer a user's query.\n",
    "  - `OpenAIAgent` (LlamaIndex's primary agent) does not need to rely on an agent excecutor due to the fact that it is leveraging OpenAI's [functional api](https://openai.com/blog/function-calling-and-other-api-updates) which allows the agent to interface \"directly\" with the tools instead of operating through an intermediary application process.\n",
    "\n",
    "There is, however, a much large terminological difference when it comes to discussing data.\n",
    "\n",
    "##### Nodes vs. Documents\n",
    "\n",
    "As you're aware of from the previous weeks assignments, there's an idea of `documents` in NLP which refers to text objects that exist within a corpus of documents.\n",
    "\n",
    "LlamaIndex takes this a step further and reclassifies `documents` as `nodes`. Confusingly, it refers to the `Source Document` as simply `Documents`.\n",
    "\n",
    "The `Document` -> `node` structure is, almost exactly, equivalent to the `Source Document` -> `Document` structure found in LangChain - but the new terminology comes with some clarity about different structure-indices. \n",
    "\n",
    "We won't be leveraging those structured indicies today, but we will be leveraging a \"benefit\" of the `node` structure that exists as a default in LlamaIndex, which is the ability to quickly filter nodes based on their metadata.\n",
    "\n",
    "![image](https://i.imgur.com/B1QDjs5.png)"
   ]
  },
  {
   "cell_type": "markdown",
   "metadata": {},
   "source": [
    "### BOILERPLATE\n",
    "\n",
    "This is only relevant when running the code in a Jupyter Notebook."
   ]
  },
  {
   "cell_type": "code",
   "execution_count": 1,
   "metadata": {},
   "outputs": [],
   "source": [
    "import nest_asyncio\n",
    "\n",
    "nest_asyncio.apply()\n",
    "\n",
    "import logging\n",
    "import sys\n",
    "\n",
    "logging.basicConfig(stream=sys.stdout, level=logging.INFO)\n",
    "logging.getLogger().addHandler(logging.StreamHandler(stream=sys.stdout))"
   ]
  },
  {
   "cell_type": "markdown",
   "metadata": {},
   "source": [
    "### Primary Dependencies and Context Setting"
   ]
  },
  {
   "cell_type": "markdown",
   "metadata": {},
   "source": [
    "#### Dependencies and OpenAI API key setting\n",
    "\n",
    "First of all, we'll need our primary libraries - and to set up our OpenAI API key."
   ]
  },
  {
   "cell_type": "code",
   "execution_count": 2,
   "metadata": {},
   "outputs": [],
   "source": [
    "!pip install -U -q openai==0.27.8 llama-index==0.8.6 nltk==3.8.1"
   ]
  },
  {
   "cell_type": "code",
   "execution_count": 3,
   "metadata": {},
   "outputs": [],
   "source": [
    "import os\n",
    "import getpass\n",
    "\n",
    "os.environ[\"OPENAI_API_KEY\"] = getpass.getpass(\"OpenAI API Key: \")\n",
    "\n",
    "import openai\n",
    "openai.api_key = os.environ[\"OPENAI_API_KEY\"]"
   ]
  },
  {
   "cell_type": "markdown",
   "metadata": {},
   "source": [
    "#### Context Setting\n",
    "\n",
    "Now, LlamaIndex has the ability to set `ServiceContext`. You can think of this as a config file of sorts. The basic idea here is that we use this to establish some core properties and then can pass it to various services. \n",
    "\n",
    "While we could set this up as a global context, we're going to leave it as `ServiceContext` so we can see where it's applied.\n",
    "\n",
    "We'll set a few significant contexts:\n",
    "\n",
    "- `chunk_size` - this is what it says on the tin\n",
    "- `llm` - this is where we can set what model we wish to use as our primary LLM when we're making `QueryEngine`s and more\n",
    "- `embed_model` - this will help us keep our embedding model consistent across use cases\n",
    "\n",
    "\n",
    "We'll also create some resources we're going to keep consistent across all of our indices today.\n",
    "\n",
    "- `text_splitter` - This is what we'll use to split our text, feel free to experiment here\n",
    "- `SimpleNodeParser` - This is what will work in tandem with the `text_splitter` to parse our full sized documents into nodes."
   ]
  },
  {
   "cell_type": "code",
   "execution_count": 12,
   "metadata": {},
   "outputs": [
    {
     "name": "stderr",
     "output_type": "stream",
     "text": [
      "[nltk_data] Downloading package punkt to\n",
      "[nltk_data]     /Users/jay/Library/Caches/llama_index...\n",
      "[nltk_data]   Unzipping tokenizers/punkt.zip.\n"
     ]
    }
   ],
   "source": [
    "from llama_index import ServiceContext\n",
    "from llama_index.node_parser.simple import SimpleNodeParser\n",
    "from llama_index.langchain_helpers.text_splitter import TokenTextSplitter\n",
    "from llama_index.llms import OpenAI\n",
    "from llama_index.embeddings.openai import OpenAIEmbedding\n",
    "\n",
    "embed_model = OpenAIEmbedding()\n",
    "chunk_size = 1000\n",
    "llm = OpenAI(\n",
    "    temperature=0, \n",
    "    model=\"gpt-3.5-turbo\",\n",
    "    streaming=True\n",
    ")\n",
    "\n",
    "service_context = ServiceContext.from_defaults(\n",
    "    llm=llm,\n",
    "    chunk_size=chunk_size,\n",
    "    embed_model=embed_model\n",
    ")\n",
    "\n",
    "text_splitter = TokenTextSplitter(\n",
    "    chunk_size=chunk_size\n",
    ")\n",
    "\n",
    "node_parser = SimpleNodeParser(\n",
    "    text_splitter=text_splitter\n",
    ")"
   ]
  },
  {
   "cell_type": "markdown",
   "metadata": {},
   "source": [
    "### BarbenHeimer Wikipedia Retrieval Tool\n",
    "\n",
    "Now we can get to work creating our semantic `QueryEngine`!\n",
    "\n",
    "We'll follow a similar pattern as we did with LangChain here - and the first step (as always) is to get dependencies."
   ]
  },
  {
   "cell_type": "code",
   "execution_count": 13,
   "metadata": {},
   "outputs": [],
   "source": [
    "!pip install -U -q chromadb==0.4.6 tiktoken==0.4.0 sentence-transformers==2.2.2 pydantic==1.10.11"
   ]
  },
  {
   "cell_type": "code",
   "execution_count": 14,
   "metadata": {},
   "outputs": [],
   "source": [
    "from llama_index import VectorStoreIndex\n",
    "from llama_index.vector_stores import ChromaVectorStore\n",
    "from llama_index.storage.storage_context import StorageContext\n",
    "import chromadb"
   ]
  },
  {
   "cell_type": "markdown",
   "metadata": {},
   "source": [
    "#### ChromaDB\n",
    "\n",
    "We'll be using [ChromaDB](https://www.trychroma.com/) as our `VectorStore` today!\n",
    "\n",
    "It works in a similar fashion to tools like Pinecone, Weaveate, and more - but it's locally hosted and will serve our purposes fine.\n",
    "\n",
    "You'll also notice the return of `OpenAIEmbedding()`, which is the embeddings model we'll be leveraging. Of course, this is using the `ada` model under the hood - and already comes equipped with in-memory caching.\n",
    "\n",
    "You'll notice we can pass our `service_context` into our `VectorStoreIndex`!"
   ]
  },
  {
   "cell_type": "code",
   "execution_count": 15,
   "metadata": {},
   "outputs": [
    {
     "name": "stdout",
     "output_type": "stream",
     "text": [
      "INFO:chromadb.telemetry.posthog:Anonymized telemetry enabled. See https://docs.trychroma.com/telemetry for more information.\n",
      "Anonymized telemetry enabled. See https://docs.trychroma.com/telemetry for more information.\n"
     ]
    }
   ],
   "source": [
    "chroma_client = chromadb.Client()\n",
    "chroma_collection = chroma_client.create_collection(\"wikipedia_barbie_opp\")\n",
    "\n",
    "vector_store = ChromaVectorStore(chroma_collection=chroma_collection)\n",
    "storage_context = StorageContext.from_defaults(vector_store=vector_store)\n",
    "wiki_vector_index = VectorStoreIndex([], storage_context=storage_context, service_context=service_context)"
   ]
  },
  {
   "cell_type": "code",
   "execution_count": 16,
   "metadata": {},
   "outputs": [],
   "source": [
    "!pip install -U -q wikipedia"
   ]
  },
  {
   "cell_type": "markdown",
   "metadata": {},
   "source": [
    "Essentially the same as the LangChain example - we're just going to be pulling information straight from Wikipedia using the built in `WikipediaReader`.\n",
    "\n",
    "Setting `auto_suggest=False` ensures we run into fewer auto-correct based errors."
   ]
  },
  {
   "cell_type": "code",
   "execution_count": 17,
   "metadata": {},
   "outputs": [],
   "source": [
    "from llama_index.readers.wikipedia import WikipediaReader\n",
    "\n",
    "movie_list = [\"Barbie (film)\", \"Oppenheimer (film)\"]\n",
    "\n",
    "wiki_docs = WikipediaReader().load_data(pages=movie_list, auto_suggest=False)"
   ]
  },
  {
   "cell_type": "markdown",
   "metadata": {},
   "source": [
    "#### Node Construction\n",
    "\n",
    "Now we will loop through our documents and metadata and construct nodes (associated with particular metadata for easy filtration later).\n",
    "\n",
    "We're using the `node_parser` we created at the top of the Notebook."
   ]
  },
  {
   "cell_type": "code",
   "execution_count": 71,
   "metadata": {},
   "outputs": [
    {
     "name": "stdout",
     "output_type": "stream",
     "text": [
      "id_='2a5533ee-5b34-495c-ac46-bc4606b62be7' embedding=None metadata={'title': 'Barbie (film)'} excluded_embed_metadata_keys=[] excluded_llm_metadata_keys=[] relationships={<NodeRelationship.SOURCE: '1'>: RelatedNodeInfo(node_id='c039e741-ab27-46af-b5f7-94fd780c6ab8', node_type=None, metadata={}, hash='8088846074b978c50e4777c53518207ca1f3d82999637aecb92289c2c033f8fa'), <NodeRelationship.NEXT: '3'>: RelatedNodeInfo(node_id='be1df943-725c-4a16-b937-35711432b861', node_type=None, metadata={}, hash='5f8f4c1a6c88eeeea3c4e7624073112fc5804cc8948336390ba67c42ad3907b8')} hash='cef8c7af1dc44c33d1770f03c273d041cb2e0aec0ece3e370cb4a6439ba0c709' text='Barbie is a 2023 American fantasy comedy film directed by Greta Gerwig from a screenplay she wrote with Noah Baumbach. Based on the Barbie fashion dolls by Mattel, it is the first live-action Barbie film after numerous computer-animated films and specials. The film follows Barbie (Margot Robbie) and Ken (Ryan Gosling) on a journey of self-discovery following an existential crisis. It features an ensemble supporting cast, including America Ferrera, Kate McKinnon, Helen Mirren, Issa Rae, Simu Liu, Michael Cera, Rhea Perlman, and Will Ferrell.\\nA live-action Barbie film was announced in September 2009 by Universal Pictures with Laurence Mark producing. Development began in April 2014, when Sony Pictures acquired the film rights. Following multiple writer and director changes and the casting of Amy Schumer and later Anne Hathaway as Barbie, the rights were transferred to Warner Bros. Pictures in October 2018. Robbie was cast in 2019, after Gal Gadot turned down the role due to scheduling conflicts, and Gerwig was announced as director and co-writer with Baumbach in 2020. The rest of the cast were announced in early 2022. Filming took place primarily at Warner Bros. Studios, Leavesden, in England and on the Venice Beach Skatepark in Los Angeles from March to July 2022.\\nBarbie premiered at the Shrine Auditorium in Los Angeles on July 9, 2023, and was theatrically released in the United States on July 21 by Warner Bros. Pictures. Its simultaneous release with Universal\\'s Oppenheimer led to the \"Barbenheimer\" cultural phenomenon, which encouraged audiences to see both films as a double feature. The film received critical acclaim and has grossed $1.28 billion worldwide, becoming the second highest-grossing film of 2023, as well as the highest-grossing film directed solely by a woman and the 21st highest-grossing film of all-time.\\n\\n\\n== Plot ==\\nStereotypical Barbie (\"Barbie\") and fellow dolls reside in Barbieland; a matriarchal society with different variations of Barbies, Kens, and a group of discontinued models, who are treated like outcasts due to their unconventional traits. While the Kens spend their days playing at the beach, considering it as their profession, the Barbies hold prestigious jobs such as doctors, lawyers, and politicians. Beach Ken (\"Ken\") is only happy when he is with Barbie and seeks a closer relationship, but Barbie rebuffs him in favor of other activities and female friendships.\\nAt a dance party, Barbie is suddenly stricken with worries about mortality. Overnight, she develops bad breath, cellulite, and flat feet, disrupting her usual routines the next day. Weird Barbie, an outcast due to her disfigurement, tells her she must find the child playing with her in the real world to cure her afflictions. Ken stows away in her convertible hoping to join her on the journey, to which Barbie reluctantly agrees.\\nArriving at Venice Beach, Barbie punches a man for groping her, leading to her and Ken\\'s brief arrest. Alarmed by their presence, Mattel\\'s CEO orders their recapture. Barbie tracks down her owner, a tween girl named Sasha, who criticizes her for encouraging unrealistic beauty standards. Distraught, Barbie discovers that Gloria, a Mattel employee and Sasha\\'s mother, inadvertently catalyzed her existential crisis after Gloria began playing with Sasha\\'s old Barbie toys in a similar state. Mattel attempts to put Barbie in a toy box for remanufacturing, but she escapes with Gloria and Sasha\\'s help and the three travel to Barbieland with Mattel executives in pursuit.\\nMeanwhile, Ken learns about the patriarchal system and feels respected for the first time. Returning to Barbieland, he persuades the other Kens to take over, and the Barbies are indoctrinated into submissive roles, such as agreeable girlfriends, housewives, and maids. Barbie arrives and unsuccessfully tries to convince Ken and the Barbies to return to the way things were. She becomes depressed, but Gloria gives an inspirational speech about society\\'s conflicting expectations of women, restoring Barbie\\'s self-confidence.\\nWith the assistance of Sasha, Weird Barbie, Allan, and the discontinued dolls, Gloria convinces the Barbies to free themselves from subordination. The Barbies manipulate the Kens into fighting amongst themselves, distracting them from enshrining male superiority into Barbieland\\'s constitution, and the Barbies regain power. Having now experienced systemic oppression for themselves, the Barbies resolve to rectify the faults of their previous society, emphasizing better treatment of the Kens and all outcasts.\\nBarbie and Ken apologize to each other, acknowledging their mistakes. Ken bemoans that he has no purpose without Barbie, so Barbie encourages him to find an autonomous identity. Barbie, who remains unsure of her' start_char_idx=None end_char_idx=None text_template='{metadata_str}\\n\\n{content}' metadata_template='{key}: {value}' metadata_seperator='\\n'\n",
      "id_='be1df943-725c-4a16-b937-35711432b861' embedding=None metadata={'title': 'Barbie (film)'} excluded_embed_metadata_keys=[] excluded_llm_metadata_keys=[] relationships={<NodeRelationship.SOURCE: '1'>: RelatedNodeInfo(node_id='c039e741-ab27-46af-b5f7-94fd780c6ab8', node_type=None, metadata={}, hash='8088846074b978c50e4777c53518207ca1f3d82999637aecb92289c2c033f8fa'), <NodeRelationship.PREVIOUS: '2'>: RelatedNodeInfo(node_id='2a5533ee-5b34-495c-ac46-bc4606b62be7', node_type=None, metadata={}, hash='cef8c7af1dc44c33d1770f03c273d041cb2e0aec0ece3e370cb4a6439ba0c709'), <NodeRelationship.NEXT: '3'>: RelatedNodeInfo(node_id='56233179-8c4d-4657-b1ef-f2527355d92b', node_type=None, metadata={}, hash='a14153fcede2b17fc130ea6dd0416620119b45b9641a95d503def3926a71f7da')} hash='5f8f4c1a6c88eeeea3c4e7624073112fc5804cc8948336390ba67c42ad3907b8' text='without Barbie, so Barbie encourages him to find an autonomous identity. Barbie, who remains unsure of her own identity, meets with the spirit of Ruth Handler, Mattel co-founder and creator of the Barbie doll, who explains that Barbie\\'s story has no set ending and her ever-evolving history surpasses her roots.\\nAfter the Barbies, Kens, and Mattel executives bid Barbie goodbye, she decides to become human and return to the real world. Sometime later, Gloria, her husband, and Sasha take Barbie, now going by the name \"Barbara Handler\", to her first gynecological appointment.\\n\\n\\n== Cast ==\\n\\n\\n== Production ==\\n\\n\\n=== Development ===\\nDevelopment on a film based on the Barbie toy line began in September 2009, when it was announced that Mattel had signed a partnership to develop the project with Universal Pictures and with Laurence Mark as producer, but nothing came to fruition. In April 2014, Mattel teamed with Sony Pictures to produce the film, which would have Jenny Bicks writing the screenplay and Laurie MacDonald and Walter F. Parkes producing through the Parkes+MacDonald Image Nation banner they created. Filming at the time was anticipated to begin by the end of the year. In March 2015, Diablo Cody was brought onto the project to rewrite the screenplay, and Amy Pascal joined the producing team. Sony Pictures would again have rewrites done to the screenplay later that year, hiring Lindsey Beer, Bert V. Royal, and Hillary Winston to write separate drafts.In December 2016, Amy Schumer entered negotiations to star in the title role with Winston\\'s screenplay; Schumer helped rewrite the script with her sister, Kim Caramele. In March 2017, Schumer exited negotiations, blaming scheduling conflicts with the planned June 2017 filming start; in 2023 she revealed she left the project due to creative differences with the film\\'s producers at the time. That July, Anne Hathaway was under consideration for the title role, with Sony Pictures hiring Olivia Milch to rewrite the screenplay and approaching Alethea Jones to direct as a means to interest Hathaway into signing on. Jones was attached to direct by March 2018.In August 2018, Robbie Brenner had been hired as producer by Mattel CEO Ynon Kreiz with the rights reverting to Mattel, with Kreiz having the intention to repossess the rights following the expiration of Sony Pictures\\'s option. Later, Brenner was hired to run Mattel Films. The expiration of Sony Pictures\\'s option on the project in October 2018 and its transfer to Warner Bros. Pictures would see the departures of Hathaway, Jones, Macdonald, Parkes and Pascal. Margot Robbie would enter early talks for the role, with Patty Jenkins briefly considered for the director position. Kreiz was determined to cast Robbie in the titular role after meeting with her following his hiring as CEO as both he and Brenner had felt that Robbie\\'s appearance had been close to the appearance of a conventional Barbie doll and had been impressed by her ideas. Initial meetings had occurred at the Polo Lounge located in The Beverly Hills Hotel. Eventually, Brenner had partnered with Robbie\\'s production company, LuckyChap Entertainment, with Robbie\\'s husband Tom Ackerley and Josey McNamara also being enlisted as producers. Robbie\\'s casting was confirmed in July 2019.Robbie had also been the producer and had pitched the film to Warner Bros. During the green-light meeting, Robbie had compared the film to Steven Spielberg\\'s Jurassic Park (1993) and had also jokingly suggested that it would gross over a billion dollars. Later on, she approached Greta Gerwig as the screenwriter as she enjoyed Gerwig\\'s previous films, particularly Little Women (2019). Gerwig was in post-production for another film, and accepted the role on the condition that her partner, Noah Baumbach, would also write the screenplay. Gerwig signed on to also direct the film in July 2021. Robbie said that the film\\'s aim was to subvert expectations and give audiences \"the thing you didn\\'t know you wanted\".\\n\\n\\n=== Writing ===\\n\\nGerwig and Baumbach were given full creative freedom in writing the film. They collaborated on the screenplay during the COVID-19 pandemic lockdowns of 2020–2021 and described the writing process as \"open\" and \"free\". Gerwig\\'s film treatment consisted of an Abstract Poem on Barbie influenced by the Apostles\\' Creed. For the narrative arc, she was partially inspired by the 1994 non-fiction book Reviving Ophelia by Mary Pipher, which accounts the effects of societal pressures on American adolescent girls. She also found inspiration in classic Technicolor musicals such as The Red Shoes (1948) and The Umbrellas of Cherbourg (1964), and said: \"They have such a high level of what we came to call authentic artificiality. You have a painted sky in a soundstage. Which is an' start_char_idx=None end_char_idx=None text_template='{metadata_str}\\n\\n{content}' metadata_template='{key}: {value}' metadata_seperator='\\n'\n",
      "id_='56233179-8c4d-4657-b1ef-f2527355d92b' embedding=None metadata={'title': 'Barbie (film)'} excluded_embed_metadata_keys=[] excluded_llm_metadata_keys=[] relationships={<NodeRelationship.SOURCE: '1'>: RelatedNodeInfo(node_id='c039e741-ab27-46af-b5f7-94fd780c6ab8', node_type=None, metadata={}, hash='8088846074b978c50e4777c53518207ca1f3d82999637aecb92289c2c033f8fa'), <NodeRelationship.PREVIOUS: '2'>: RelatedNodeInfo(node_id='be1df943-725c-4a16-b937-35711432b861', node_type=None, metadata={}, hash='5f8f4c1a6c88eeeea3c4e7624073112fc5804cc8948336390ba67c42ad3907b8'), <NodeRelationship.NEXT: '3'>: RelatedNodeInfo(node_id='ca40f5c4-a2a2-49df-a6bb-2fad364dc107', node_type=None, metadata={}, hash='dcd871169fe70010bf3dddcf5d0615bead0277aa2c71fe2e3644e4594321e26d')} hash='a14153fcede2b17fc130ea6dd0416620119b45b9641a95d503def3926a71f7da' text='came to call authentic artificiality. You have a painted sky in a soundstage. Which is an illusion, but it\\'s also really there. The painted backdrop is really there. The tangibility of the artifice is something that we kept going back to.\" The script also contains candid criticism of Mattel, which created skepticism among Mattel officials when they received the first version. However, Kreiz decided to trust Gerwig. Brenner noted that \"being safe in this world doesn\\'t work\" as she interpreted Barbie to be a \"bold\" and \"trailblazer\" figure. As a result, Will Ferrell\\'s portrayal as the Mattel CEO was meant to be an allegory for corporate America. Kreiz praised Ferrell and said that while Mattel officials took their brands seriously, they did not take themselves seriously. Gerwig and Robbie had both felt the film was \"most certainly a feminist film\" but Mattel officials had rejected the description. Both Gerwig and Robbie had informed the studio that they would also explore the controversies and problematic parts of Barbie, but they had also convinced the studio that they would respect the product.Gerwig was also influenced by her childhood experiences with Barbie. Her mother had discouraged her from purchasing the dolls, but eventually allowed her to. Opting to acknowledge the controversial nature of the Barbie doll, Gerwig chose to create a film in which she would be both \"doing the thing and subverting the thing\", in the sense that she would be celebrating the feminism behind Barbie while also noting the controversial beauty standards associated with it. She was also fascinated by the idea that humans create dolls, which in turn imitate humans, feeling that \"we\\'re in constant conversation with inanimate objects\" while also conveying an affirmative message to the audience to \"just be yourself and know that that\\'s enough\". The film deliberately juxtaposed contradictory messaging, such as critiquing consumerism yet glamorizing plastic products, and in the ending of the film, in which Barbie desires to be more than just a plastic doll. Gerwig made the film as an \"earnest attempt to make amends\" with the intention of affirming the worth of women and conveying the impossibility of perfection, which some perceived to be standards associated with Barbie. Reflecting upon the maximalism of Barbie, Gerwig said that the \"ontology of Barbie\" was similar to what she perceived as Shakespeare\\'s maximalism, which she had enjoyed in his works. She grounded the film in what she described as a \"heightened theatricality that allows you to deal with big ideas in the midst of anarchic play\".Gerwig described the film as being anarchic, unhinged, and humanist. She felt that the film originated from the \"deep isolation of the pandemic\", opining that the line in which Margot Robbie says \"Do you guys ever think about dying?\" exemplifies the film\\'s anarchic nature. She also found the idea of Barbie being \"constrained in multitudes\" as \"all of these women are Barbie and Barbie is all of these women\" to be \"trippy\" and felt as a result, Barbie did not need to have her own personal life, as she was attuned to her environment. She also described the story as mirroring a girl\\'s journey from childhood to adolescence, though she did not deem it to be a coming of age film and felt that the film ultimately \"ends up, really, about being human\".Primarily, she began her writing by interpreting Barbie as living in a utopia and eventually experiencing reality, where she would have to \"confront all the things that were shielded from them in this place [Barbieland]\". She also drew parallels to the story of Adam and Eve and taking inspiration from John Milton\\'s Paradise Lost, particularly being inspired by the concept that there is \"no poetry without pain\". To underscore the tragic elements of Barbie and Ken facing the real world, she focused on elements of dissonance. As such, she chose to keep a scene featuring Robbie\\'s Barbie telling an older woman that she\\'s beautiful after being requested to remove it, as she felt that the scene epitomized \"the heart of the movie\". She also desired to provide a \"counterargument\" to Barbie by featuring a scene in which Barbie learns that some women do not like her, and felt it gave the film \"real intellectual and emotional power\". As such, a scene is featured in which Barbie is being stared at inappropriately on the Venice Beach, which Gerwig chose to feature as she felt it was a universal experience, being especially relevant for actors. She was inspired by an audition she did in which she wore overalls and felt that she did not perform well in. The ending of the film features Barbie saying the line \"I\\'m here to see my gynecologist\", with Gerwig describing it as a \"mic drop kind of joke\". She had chosen to include the line' start_char_idx=None end_char_idx=None text_template='{metadata_str}\\n\\n{content}' metadata_template='{key}: {value}' metadata_seperator='\\n'\n",
      "id_='ca40f5c4-a2a2-49df-a6bb-2fad364dc107' embedding=None metadata={'title': 'Barbie (film)'} excluded_embed_metadata_keys=[] excluded_llm_metadata_keys=[] relationships={<NodeRelationship.SOURCE: '1'>: RelatedNodeInfo(node_id='c039e741-ab27-46af-b5f7-94fd780c6ab8', node_type=None, metadata={}, hash='8088846074b978c50e4777c53518207ca1f3d82999637aecb92289c2c033f8fa'), <NodeRelationship.PREVIOUS: '2'>: RelatedNodeInfo(node_id='56233179-8c4d-4657-b1ef-f2527355d92b', node_type=None, metadata={}, hash='a14153fcede2b17fc130ea6dd0416620119b45b9641a95d503def3926a71f7da'), <NodeRelationship.NEXT: '3'>: RelatedNodeInfo(node_id='7350428c-943a-4eda-8454-b6eed6cca576', node_type=None, metadata={}, hash='81c92eef432901d218942dfe02d824d7781735f4a7e81d4a69de1293ffc1bc20')} hash='dcd871169fe70010bf3dddcf5d0615bead0277aa2c71fe2e3644e4594321e26d' text='Gerwig describing it as a \"mic drop kind of joke\". She had chosen to include the line as she had wanted to instill confidence in younger girls, as she had been embarrassed about her body when she was younger.Barbie also explores the negative consequences of hierarchical power structures, with Gerwig saying that she extrapolated that \"Barbies rule and Kens are an underclass\" and felt it was similar to the Planet of the Apes. Ken has low self-esteem and seeks approval from Barbie, which Gerwig identified as a good source for a story. Gosling compared Gerwig\\'s vision to Milton Glaser\\'s I Love New York logo as he felt Gerwig created the film\\'s characters as a way of understanding the contemporary world. Ken has the only power ballad in the film, and Gerwig had identified it as the moment in which she felt the film transcended what a Barbie movie traditionally should have been.\\n\\n\\n=== Casting ===\\nDuring the casting process, Gerwig and Robbie looked for actresses with \"Barbie energy\" (which was described as \"a certain ineffable combination of beauty and exuberance\").In October 2021, Ryan Gosling entered final negotiations to play Ken in the film. America Ferrera, Simu Liu and Kate McKinnon were cast in February 2022. Liu auditioned for the film after his agent raved about the script being one of the best they had ever read. In March 2022, Ariana Greenblatt, Alexandra Shipp, and Emma Mackey were revealed to be in the cast. Will Ferrell joined the cast in April, along with Issa Rae, Michael Cera, Hari Nef, Kingsley Ben-Adir, Rhea Perlman, Ncuti Gatwa, Emerald Fennell, Sharon Rooney, Scott Evans, Ana Cruz Kayne, Connor Swindells, Ritu Arya and Jamie Demetriou. In April 2023, a trailer revealed that John Cena had joined the cast. It was later reported that Cena had spontaneously been offered a part in the film after paying for Robbie\\'s meal in London during production. Helen Mirren narrated the film\\'s trailer and the film itself.Robbie wanted Gal Gadot to play a Barbie in the film, but Gadot was unavailable due to scheduling conflicts. Gerwig wanted her frequent collaborators Timothée Chalamet and Saoirse Ronan to make cameo appearances, but neither was available, Gerwig revealed that during a visit to the set, Chalamet said he should have been in the film. Additionally, Bowen Yang, Dan Levy and Ben Platt were considered for Ken; Jonathan Groff was the first choice for Allan but turned it down.\\n\\n\\n=== Set design ===\\nSarah Greenwood and Katie Spencer serve as set designer and decorator, respectively, on the film. For the Barbie Dreamhouse, the pair drew inspiration from the mid-century modernist architecture found in Palm Springs, including the Kaufmann Desert House by Richard Neutra, as well as the photography of Slim Aarons. Gerwig wanted to capture \"what was so ridiculously fun about the Dreamhouses\", alluding to its previous models, and referenced Pee-wee\\'s Big Adventure, the paintings of Wayne Thiebaud, and Gene Kelly\\'s apartment flat in the 1951 Technicolor musical An American in Paris. \"Everything needed to be tactile, because toys are, above all, things you touch\", Gerwig was quoted saying of the use of practical effects instead of CGI to capture the sky and the San Jacinto Mountains. The set design is also noted for its extensive use of a specific shade of pink paint, Pantone 219. The company already had an international shortage due to COVID-19 related supply chain issues as well as freezing temperatures damaging stock; set design for the film used up the company\\'s entire remaining stock of pink. She also sought to use practical builds and had to first film sequences in miniature models and then composite the footage onto the actual image. She had already discussed the production design with cinematographer Rodrigo Prieto, Greenwood, and costume designer Jacqueline Duran a year beforehand to prepare for the film. Gerwig also called the director Peter Weir for inspiration on Barbie Land, with the idea of creating it as an \"interior soundstage world\".\\n\\n\\n=== Costumes ===\\nCostume designer Jacqueline Durran, who previously collaborated with Gerwig on Little Women (2019), employed a practical approach to create Barbie\\'s wardrobe: \"The defining characteristic of what she wears is where she\\'s going and what she\\'s doing, [i]t\\'s about being completely dressed for your job or task.\" To match the film\\'s Barbieland setting, Durran and her team created costumes made of roughly fifteen color combinations \"that riffed off the idea of a French Riviera beach in the early 1960s\" and drew inspiration from actress Brigitte Bardot. For' start_char_idx=None end_char_idx=None text_template='{metadata_str}\\n\\n{content}' metadata_template='{key}: {value}' metadata_seperator='\\n'\n",
      "id_='7350428c-943a-4eda-8454-b6eed6cca576' embedding=None metadata={'title': 'Barbie (film)'} excluded_embed_metadata_keys=[] excluded_llm_metadata_keys=[] relationships={<NodeRelationship.SOURCE: '1'>: RelatedNodeInfo(node_id='c039e741-ab27-46af-b5f7-94fd780c6ab8', node_type=None, metadata={}, hash='8088846074b978c50e4777c53518207ca1f3d82999637aecb92289c2c033f8fa'), <NodeRelationship.PREVIOUS: '2'>: RelatedNodeInfo(node_id='ca40f5c4-a2a2-49df-a6bb-2fad364dc107', node_type=None, metadata={}, hash='dcd871169fe70010bf3dddcf5d0615bead0277aa2c71fe2e3644e4594321e26d'), <NodeRelationship.NEXT: '3'>: RelatedNodeInfo(node_id='aac7e726-0b4a-4f27-b3d3-640aab97ac52', node_type=None, metadata={}, hash='4039810870c122b006c5e93c5ed498e9da2fe6429f7d4cd05b26afd01f6af7b6')} hash='81c92eef432901d218942dfe02d824d7781735f4a7e81d4a69de1293ffc1bc20' text='Riviera beach in the early 1960s\" and drew inspiration from actress Brigitte Bardot. For Ken\\'s outfits, Durran zeroed in a look composed of colorful sportswear from the 1980s, while actor Ryan Gosling suggested a Ken-branded underwear for the character. Durran closely adapted outfits from past iterations of Barbie dolls, such as the 1993 \"Western Stampin\\'\" dolls and the 1994 \"Hot Skatin\\'\" dolls. She noted the Barbie dolls as \"a very useful way to look at different ideas of femininity: what that means, who owns it, and who it\\'s aimed at\" and reflected this idea in how she dressed the characters. While the majority of the clothing featured in the film were sourced by Durran and her team, they also pulled pieces from the fashion archives of Chanel.\\n\\n\\n=== Filming ===\\nPrincipal photography began on March 22, 2022, at Warner Bros. Studios, Leavesden in England and wrapped on July 21, 2022. Among the notable filming locations was the Venice Beach Skatepark in Los Angeles, California. Rodrigo Prieto served as cinematographer. Prior to filming, Gerwig had organized a sleepover with the female cast members for them to establish positive relationships while also feeling that it \"would be the most fun way to kick everything off\". She also opted to use filming techniques from the 1950s, as Barbie has been a popular toy since 1959, with the intention of recreating a period-accurate look. Additionally, she also watched Powell and Pressburger\\'s A Matter of Life and Death (1946) to understand how older visual effects were used to provide a sense of theatricality. To highlight the tragic nature of Barbie and Ken facing the difficulties of the real world, she directed Robbie and Gosling to act as if they were in a drama. Reshoots took place in Los Angeles in April 2023.\\n\\n\\n== Music ==\\n\\nAlexandre Desplat, who collaborated with Gerwig on Little Women (2019), was set to score Barbie in early September 2022. However, by May 2023, Desplat had left the project, with Mark Ronson and Andrew Wyatt taking over scoring duties. The score was released by WaterTower Music on August 4, 2023.In addition to the score, Ronson was tasked with curating a compilation soundtrack that matched Gerwig\\'s vision for Barbie. As the film was being edited in post-production, Ronson and Gerwig would show scenes from the film to artists they wanted on the soundtrack. The film\\'s soundtrack, Barbie: The Album, was released on July 21, 2023. The album features songs by artists Ava Max, Charli XCX, Dominic Fike, Fifty Fifty, Gayle, Haim, Ice Spice, Kali, Karol G, Khalid, Sam Smith, Lizzo, Nicki Minaj, Billie Eilish, PinkPantheress, Tame Impala, the Kid Laroi, and cast members Ryan Gosling and Dua Lipa. \"Dance the Night\" by Dua Lipa was released as the album\\'s lead single on May 26, 2023. It was followed by \"Watati\" by Karol G on June 2, 2023. \"Angel\" by PinkPantheress was released on June 9, 2023, as the first promotional single. \"Barbie World\" by Nicki Minaj and Ice Spice was released as the album\\'s third single on June 23, 2023. The album\\'s second promotional single, \"Speed Drive\" by Charli XCX was released on June 30, 2023. On July 6, 2023, the album\\'s third and final promotional single, \"Barbie Dreams\" by Fifty Fifty and Kaliii was released. On July 10, 2023, Warner Bros. released a preview clip of Ryan Gosling singing \"I\\'m Just Ken\". The album\\'s fourth single, \"What Was I Made For?\" by Billie Eilish, was released on July 13, 2023.Despite fan expectations for the 1997 song \"Barbie Girl\" by the pop band Aqua to feature in the film, Ulrich Møller-Jørgensen, manager for Aqua lead singer Lene Nystrøm, said that it was not used, while Variety speculated that this was due to bad relations between Mattel and MCA Records, the song\\'s American publisher, who engaged in a series of lawsuits over the song from 1997 to 2002. \"Barbie World\", a rework of the song, was instead featured in the film. It samples \"Barbie Girl\"; Aqua is credited as a performer and co-writer on the track.The film features multiple renditions of the 1989 song \"Closer to Fine\" by the Indigo Girls and the 1997 song \"Push\" by Matchbox Twenty, the latter of' start_char_idx=None end_char_idx=None text_template='{metadata_str}\\n\\n{content}' metadata_template='{key}: {value}' metadata_seperator='\\n'\n",
      "id_='aac7e726-0b4a-4f27-b3d3-640aab97ac52' embedding=None metadata={'title': 'Barbie (film)'} excluded_embed_metadata_keys=[] excluded_llm_metadata_keys=[] relationships={<NodeRelationship.SOURCE: '1'>: RelatedNodeInfo(node_id='c039e741-ab27-46af-b5f7-94fd780c6ab8', node_type=None, metadata={}, hash='8088846074b978c50e4777c53518207ca1f3d82999637aecb92289c2c033f8fa'), <NodeRelationship.PREVIOUS: '2'>: RelatedNodeInfo(node_id='7350428c-943a-4eda-8454-b6eed6cca576', node_type=None, metadata={}, hash='81c92eef432901d218942dfe02d824d7781735f4a7e81d4a69de1293ffc1bc20'), <NodeRelationship.NEXT: '3'>: RelatedNodeInfo(node_id='d9de2208-37b0-4acf-9bad-9dd3c379f4c9', node_type=None, metadata={}, hash='40c31727baed7d654a21bc90f7f2e49088da9a05d855bdfcc1a77d4812aec49d')} hash='4039810870c122b006c5e93c5ed498e9da2fe6429f7d4cd05b26afd01f6af7b6' text='by the Indigo Girls and the 1997 song \"Push\" by Matchbox Twenty, the latter of which Ken adopts as his favorite song after visiting the real world, which becomes \"a tongue-in-cheek anthem of patriarchal dominance\" in the fictional Barbieland. While many reviews of the film interpreted this as a critique of the song, director Greta Gerwig said that she was a fan of Matchbox Twenty and \"I never put anything in a movie I don’t love.\"\\n\\n\\n== Marketing ==\\nBarbie was promoted with an extensive marketing campaign. In the months leading up to the release of the film, Mattel entered into several Barbie-themed promotional partnerships and collaborations with various brands, including Airbnb, Aldo, Bloomingdale\\'s, Burger King Brazil, Chi Haircare, Forever 21, Gap, Hot Topic, Krispy Kreme Philippines, Primark, Progressive Insurance, Spirit Halloween, Ulta, and Xbox. Additionally, studio parent company Warner Bros. Discovery engaged in cross-promotion for the film through its TV channels, most prominently with an HGTV renovation reality competition series titled Barbie Dreamhouse Challenge, coproduced by Mattel Television, which premiered shortly before the film\\'s release. Trade publication Variety reported that Warner Bros. spent $150 million on marketing for Barbie—more than the $145 million budget used to produce the movie itself.A first-look image of the film was revealed during a Warner Bros. presentation at CinemaCon in April 2022. Released to the public on April 27, 2022, the image saw Margot Robbie as Barbie, sitting behind the wheel of her iconic pink 1956 Chevrolet Corvette. Collider complimented Robbie in the image, stating: \"This photo is just further proof that Robbie was made to play this role. She just looks like a Barbie doll come to life—it\\'s almost uncanny\". On June 15, 2022, a second still featuring Ryan Gosling as Ken was released. Despite noting similarities between his look in the image and his previous roles, The Guardian asserted that \"there is a very strong chance that this will be [Gosling\\'s] defining role\".A booth dedicated to Barbie was opened at the 2022 CCXP event in São Paulo, Brazil. The first teaser trailer for the film debuted during preview screenings of Avatar: The Way of Water in December 2022. It featured a parody of the opening \"Dawn of Man\" sequence in Stanley Kubrick\\'s 1968 film 2001: A Space Odyssey, in which Robbie (clad in Barbie\\'s original 1959 outfit) imitates an alien monolith whose influence on the history of dolls is narrated by Mirren. Along with a theatrical poster, the teaser trailer was released to the public on December 16, 2022. Rolling Stone praised the 2001 homage and vibrant colors of the trailer, and remarked on its vague outlining of the plot: \"One has to wonder when, or better yet how, it will all get shaken up\".On April 4, 2023, twenty-four character posters of the several Barbies and Kens featured in the film—each tagged with brief descriptions—were shared on the Barbie\\'s social media accounts. Empire remarked: \"You might have thought that Multiverse fever would be constrained generally to comic book films and never-would-have-called-it Oscar winners [Everything Everywhere All at Once]. But ... it seems Greta Gerwig\\'s Barbie movie will also be flooding the screen with variants, this time of plastic dolls Barbie and Ken\". A second teaser trailer was unveiled shortly after the release of the posters. It featured a rendition of the Beach Boys\\' 1964 surf rock song \"Fun, Fun, Fun\". The Washington Post noted that the \"visually striking\" and \"polysemic\" teaser captivated multiple demographics because of its humor, color palette, and the Barbie doll\\'s cross-generational appeal. An official trailer for the film was released on May 25, 2023. Critics noted for its existential tone set against upbeat music. Ben Travis of Empire said: \"There\\'s much to discuss here—not least, that it looks visually impeccable\" and speculated Academy Awards attention for its production and costume design.A parade float was featured at the 2023 WeHo Pride Parade in Los Angeles to promote the film. Two of its LGBTQ+ cast members, Alexandra Shipp and Scott Evans, were present during the event.In June 2023, a French Barbie poster went viral for including the tagline \"Elle peut tout faire. Lui, c\\'est juste Ken.\", which literally translates to \"She can do everything. He\\'s just Ken.\" However, ken is the verlan slang term for \"fuck\" in French, i.e. the phonological inversion of nique, while c\\'est (\"he is\") is a homophone for sait (\"he knows how\"), meaning the tagline could be read as \"She can do everything. He just knows how to' start_char_idx=None end_char_idx=None text_template='{metadata_str}\\n\\n{content}' metadata_template='{key}: {value}' metadata_seperator='\\n'\n",
      "id_='d9de2208-37b0-4acf-9bad-9dd3c379f4c9' embedding=None metadata={'title': 'Barbie (film)'} excluded_embed_metadata_keys=[] excluded_llm_metadata_keys=[] relationships={<NodeRelationship.SOURCE: '1'>: RelatedNodeInfo(node_id='c039e741-ab27-46af-b5f7-94fd780c6ab8', node_type=None, metadata={}, hash='8088846074b978c50e4777c53518207ca1f3d82999637aecb92289c2c033f8fa'), <NodeRelationship.PREVIOUS: '2'>: RelatedNodeInfo(node_id='aac7e726-0b4a-4f27-b3d3-640aab97ac52', node_type=None, metadata={}, hash='4039810870c122b006c5e93c5ed498e9da2fe6429f7d4cd05b26afd01f6af7b6'), <NodeRelationship.NEXT: '3'>: RelatedNodeInfo(node_id='73f8c0d3-355c-45b9-8642-a9bc9d61e523', node_type=None, metadata={}, hash='ef420aa0924c658ee2f51c9ce0a68177b9da81ab3f5f3531496a63a816ae0112')} hash='40c31727baed7d654a21bc90f7f2e49088da9a05d855bdfcc1a77d4812aec49d' text='meaning the tagline could be read as \"She can do everything. He just knows how to fuck.\" Analysts concluded that it was likely that the pun was intentional, as the slang term is common knowledge among French speakers, though Warner Bros. would neither confirm nor deny whether this was the case.\\nLeading up to the release, pink billboards, blank apart from the film\\'s release date, have appeared worldwide, and a real-world \"Barbie Dreamhouse\" in Malibu, California became available to rent through Airbnb.On July 14, 2023, SAG-AFTRA, an American labor union of film, television, and voice actors, declared a strike action, effectively halting any promotional event that involves any member in the guild. Robbie showed her support in the action. SAG-AFTRA President Fran Drescher later claimed the studios \"duped\" the guild into accepting a 12-day extension for negotiations to continue promoting summer films like Barbie.\\n\\n\\n== Release ==\\n\\n\\n=== Theatrical ===\\nBarbie had its world premiere at the Shrine Auditorium in Los Angeles on July 9, 2023, followed by the European premiere at Cineworld Leicester Square in London on July 12, 2023. It was released theatrically in the United States and the United Kingdom on July 21, 2023, taking over the original release date of Coyote vs. Acme. Previous iterations of the project were set for June 2, 2017; May 12, 2017; June 29, 2018; August 8, 2018; and May 8, 2020.The film was released on the same day as Oppenheimer, a biographical film about J. Robert Oppenheimer written and directed by Christopher Nolan based on the book American Prometheus, and distributed by Universal Pictures. Due to the tonal and genre contrast between the two films, many social media users created memes and ironic posts about how the two films appealed to different audiences, and how they should be viewed as a double feature. The trend was dubbed \"Barbenheimer\". In an interview with La Vanguardia, Oppenheimer star Cillian Murphy endorsed the phenomenon, saying, \"My advice would be for people to go see both, on the same day. If they are good films, then that\\'s cinema\\'s gain.\"\\n\\n\\n=== Home media ===\\nBarbie is scheduled to be released on digital formats on September 5, 2023.\\n\\n\\n=== Censorship ===\\n\\n\\n==== Nine-dash line controversy ====\\n\\nThe controversy over the alleged appearance of the nine-dash line (a maritime border running through the South China Sea set and claimed by the Government of the People\\'s Republic of China) in the film began when Vietnam\\'s film censorship authority banned the film for allegedly displaying such lines. In contrast, the Philippine counterpart instead requested that the lines in question be blurred. Both countries have banned the films Abominable (2019) and Uncharted (2022) for featuring the actual nine-dash line. The nine-dash line is controversial due to maritime border disputes between China, Vietnam, Taiwan, Malaysia, Brunei, and the Philippines.\\n\\n\\n===== Vietnam =====\\nOn July 3, 2023, Vietnamese newspaper Tuổi Trẻ quoted Vi Kiến Thành, head of the Department of Cinema, as announcing that Barbie would be banned in Vietnam because it contained \"the offending image of the nine-dash line.\" The Tiền Phong newspaper reported that the nine-dash line \"appears multiple times in the film\". The film was originally scheduled to be released in Vietnam on July 21.Speaking to Voice of America, Trịnh Hữu Long (founder of the research group Legal Initiatives for Vietnam) said, \"The censors will even be praised for overreacting to the unclear map, by both their superiors and the public, because anti-China sentiment runs deep into the country\\'s political culture\", and that \"the government is surely using legitimate nationalist reasoning to strengthen its entire censorship system\", while Michael Caster at the free expression group Article 19 said, \"Maps are political, and borders often bear historical wounds, but rather than ensuring free and open discussion, the knee jerk response to censor seldom supports historical or transitional justice\".Speaking to Vox, UC Berkeley professor Peter Zinoman said, \"To the Chinese, the nine-dash line signifies their legitimate claims to the South China Sea\", and \"to the Vietnamese, it symbolizes a brazen act of imperialist bullying that elevates Chinese national interest over an older shared set of interests of socialist brotherhood,\" while Harvard University professor Huệ-Tâm Hồ Tài said since the producers of the film were aiming for the mainland Chinese market in the hopes that it would be a blockbuster, \"they are ready to accept [mainland China\\'s] view' start_char_idx=None end_char_idx=None text_template='{metadata_str}\\n\\n{content}' metadata_template='{key}: {value}' metadata_seperator='\\n'\n",
      "id_='73f8c0d3-355c-45b9-8642-a9bc9d61e523' embedding=None metadata={'title': 'Barbie (film)'} excluded_embed_metadata_keys=[] excluded_llm_metadata_keys=[] relationships={<NodeRelationship.SOURCE: '1'>: RelatedNodeInfo(node_id='c039e741-ab27-46af-b5f7-94fd780c6ab8', node_type=None, metadata={}, hash='8088846074b978c50e4777c53518207ca1f3d82999637aecb92289c2c033f8fa'), <NodeRelationship.PREVIOUS: '2'>: RelatedNodeInfo(node_id='d9de2208-37b0-4acf-9bad-9dd3c379f4c9', node_type=None, metadata={}, hash='40c31727baed7d654a21bc90f7f2e49088da9a05d855bdfcc1a77d4812aec49d'), <NodeRelationship.NEXT: '3'>: RelatedNodeInfo(node_id='abf3adff-05f2-4740-8d59-cf15b6b88a5c', node_type=None, metadata={}, hash='a288005f202ba6562b5044cf35b769c6705326c2e722f8a6abcf65bf92520dd2')} hash='ef420aa0924c658ee2f51c9ce0a68177b9da81ab3f5f3531496a63a816ae0112' text='that it would be a blockbuster, \"they are ready to accept [mainland China\\'s] view of geography. Disinformation works by repetition.\" New York University professor Kevin Li said, \"In my view, banning [Barbie] was a no-brainer.\"In response to Vietnam\\'s ban, Chinese Foreign Ministry spokesperson Mao Ning stated at a press briefing on July 4 that the \"South China Sea issue\" should not be linked with \"normal cultural exchange\".\\n\\n\\n===== The Philippines =====\\nWhen news of Vietnam\\'s ban reached the Philippines, Senator Francis Tolentino, vice chairman of the Philippine Senate Committee on Foreign Relations, told CNN Philippines that Barbie may also be banned in the country because it \"denigrates\" Filipino sovereignty. Senator Jinggoy Estrada called the film to be banned over the alleged inclusion of the nine-dash line; opposition senator Risa Hontiveros quipped \"the movie is fiction, and so is the nine-dash line\", and suggested adding a disclaimer to the film instead of banning its release. Senator Robin Padilla, chairman of the Senate mass media committee, suggested that the film producers must edit out references to the nine-dash line or risk the film being banned.On July 11, the Philippines\\' Movie and Television Review and Classification Board (MTRCB) came to the conclusion that there was \"no basis\" to banning the film as the map was simply \"cartoonish\" and that there was no clear nor outright depiction of the nine-dash line, as the line in the film was \"not U-Shaped\" and had \"eight dots or dashes\" instead of nine. The board gave the film a PG rating, as well as allowing it to be screened in the country, however they requested Warner Bros. to \"blur the controversial lines in order to avoid further misinterpretations\". Senator Tolentino said that he respected the MTRCB\\'s decision, but expressed his dismay at it emerging a day before the seventh anniversary of the Permanent Court of Arbitration ruling that declared the nine-dash line had no legal basis on July 12, 2016. The film was released in the Philippines on July 19, 2023.\\n\\n\\n===== World map drawing and Warner Bros.\\' statement =====\\nWith the rising concerns over the alleged appearance of the nine-dash line, several media outlets pointed to a drawing of a world map which appears in a trailer for the film. The Los Angeles Times described the particular image as a \"map of \\'the real world\\' [which] looks as if it\\'s been drawn in crayon by a child\" with a line of dashes \"alongside the coast of what should be China.\" On July 6, 2023, Warner Bros. issued a statement explaining that the map in the concerned image is a \"child-like crayon drawing\", with the dashed lines depicting Barbie\\'s journey from Barbie Land to the real world and was \"not intended to make any type of statement\". Jordan Richard Schoenherr from Concordia University said that while the map might seem innocuous, the repeated presentation of images that supported the goals of the Chinese government risks increasing their acceptance by international publics and is therefore a cause for concern.\\n\\n\\n==== Religious interpretation and LGBTQ+ themes ====\\nIn Pakistan, the film was released nationwide on July 21, 2023. The Punjab Film Censor Board (which handles the censorship in the Punjab province) and other regional equivalents cleared the film for screening. But on July 22, Punjab province\\'s caretaker Minister of Information and Culture Amir Mir used his authority to halt the screenings of the film in the province, alleging that it \"[shows] homosexuality.\" Punjab\\'s Information Secretary Ali Nawaz Malik told Dawn that the film \"has been sent to Dubai for a censorship review.\" On August 1, the final approval was given for the film to be shown in the province.In the Middle East, the film was initially scheduled to be released on July 19, 2023, before being delayed to August 31. Later, Vox Cinemas, the distributor of Warner Bros. films in the region, announced that the film would be released in the region on August 10. Although the film censorship authorities in the region initially did not specify any reason, it was suggested that the inclusion of a transgender actress in one of Barbie roles, and the narrations and dialogs related to LGBTQ+ matters might have been the issues with the film.On August 9, 2023, Lebanon\\'s Minister of Culture Mohammad Mortada, who is backed by Hezbollah, proposed that the film be banned in the country for \"[promoting] homosexuality and sexual transformation\" and \"[contradicting] values of faith and morality\" by \"diminishing the importance of the family unit\". On August 11, it was reported that the Lebanese authority, comprising the representatives from the General Security and the Ministry of Economy and Trade, found no reason to ban the film in' start_char_idx=None end_char_idx=None text_template='{metadata_str}\\n\\n{content}' metadata_template='{key}: {value}' metadata_seperator='\\n'\n",
      "id_='abf3adff-05f2-4740-8d59-cf15b6b88a5c' embedding=None metadata={'title': 'Barbie (film)'} excluded_embed_metadata_keys=[] excluded_llm_metadata_keys=[] relationships={<NodeRelationship.SOURCE: '1'>: RelatedNodeInfo(node_id='c039e741-ab27-46af-b5f7-94fd780c6ab8', node_type=None, metadata={}, hash='8088846074b978c50e4777c53518207ca1f3d82999637aecb92289c2c033f8fa'), <NodeRelationship.PREVIOUS: '2'>: RelatedNodeInfo(node_id='73f8c0d3-355c-45b9-8642-a9bc9d61e523', node_type=None, metadata={}, hash='ef420aa0924c658ee2f51c9ce0a68177b9da81ab3f5f3531496a63a816ae0112'), <NodeRelationship.NEXT: '3'>: RelatedNodeInfo(node_id='b17337de-0588-4515-9a8e-b4030e862205', node_type=None, metadata={}, hash='f7f4ba8753a9184f098417208e0e809b132d697c46b49ecc27c41dd35cab05a4')} hash='a288005f202ba6562b5044cf35b769c6705326c2e722f8a6abcf65bf92520dd2' text='from the General Security and the Ministry of Economy and Trade, found no reason to ban the film in the country. As of August 15, the Minister of Interior and Municipalities is reportedly yet to receive the official report from the General Security.Also on August 9, 2023, the Kuwaiti authority formally announced the ban of both Barbie and Australian horror film Talk to Me (which stars a transgender actor), with the head of the authority Lafi Al-Subaie accusing the former of \"carrying ideas that encourage unacceptable behavior and distort society\\'s values.\"On August 13, 2023, just three weeks after its release on July 19, the screenings of Barbie were halted in film theaters in Algeria. According to Reuters, the official source was quoted as saying that the film \"promotes homosexuality and other Western deviances\" and that it \"does not comply with Algeria\\'s religious and cultural beliefs.\"\\n\\n\\n== Reception ==\\n\\n\\n=== Box office ===\\nAs of August 21, 2023, Barbie has grossed $569.5 million in the United States and Canada, and $713.3 million in other territories, for a worldwide total of $1.283 billion.It was described as a \"record-breaking\" box office success during its opening weekend, and set the record for any film that was not a sequel, remake, or superhero property. The film crossed the $1 billion mark worldwide on August 6, 2023, making it the first film by a solo female director to do so.\\n\\n\\n==== United States and Canada ====\\nIn the United States and Canada, Barbie was released alongside Oppenheimer, and was originally projected to gross $90–125 million from 4,243 theaters in its opening weekend, with Warner Bros. predicting a $75 million debut. The week of their release, AMC Theatres announced that over 40,000 AMC Stubs members had pre-booked tickets to both films on the same day. It earned $70.5 million on its opening day, which included $22.3 million from Wednesday and Thursday night previews, both of which were the best of 2023. Barbie\\'s opening weekend gross of $162 million marked the largest opening since Black Panther: Wakanda Forever ($181.3 million in November 2022). It was also the biggest opening ever for a film helmed by a female director, besting Captain Marvel (2019), and surpassed Suicide Squad (2016) to have Robbie\\'s highest opening weekend. It scored the third-highest July opening weekend at the time, behind The Lion King (2019) and Harry Potter and the Deathly Hallows – Part 2 (2011). This also marked the third-highest opening weekend for a Warner Bros. film, after the latter film and Batman v Superman: Dawn of Justice (2016). Barbie also scored the biggest opening for a movie based on a toy, surpassing Transformers: Revenge of the Fallen (2009). The Barbenheimer phenomenon was widely credited with boosting interest in the film, with a total of 79% of tickets sold over the weekend (52% for Barbie) being for the two films, a total of 18.5 million people.Following its opening weekend, Barbie surpassed The Dark Knight (2008) as the highest Monday gross ever for any Warner Bros. film, collecting a total of $26.1 million. In its second weekend, the film earned $92 million, dropping by 43%, which was the largest sophomore weekend ever for a Warner Bros. film and the seventh-largest ever. The film remained in first place with $53 million in its third weekend and $33.7 million in its fourth weekend. On August 16, 2023, Barbie once again surpassed The Dark Knight; this time as the highest-grossing domestic release in Warner Bros. history, having earned $537.5 million. The film was dethroned in its fifth weekend by newcomer Blue Beetle, though it continued to hold well with a gross of $21.5 million.\\n\\n\\n==== Other territories ====\\nOutside of the United States and Canada, Barbie earned $194.3 million from 69 offshore markets in its opening weekend. Of the 69 markets, it was the number one film for the weekend in 58, scored the largest opening weekend for a Warner Bros. film in 26 and marked the largest opening for a 2023 film in 24. In the United Kingdom, the film opened with $24.2 million, which was the year\\'s largest opening. In France, it opened with $10.2 million, marking the largest debut for a Warner Bros. film since Joker (2019). The following weekend, Barbie earned $127 million, dropping by just 31%. It remained the number one film of the weekend in 57 markets. Within its sophomore weekend, it became the highest-grossing film of 2023 in Brazil, as well as the highest-grossing Warner Bros. release ever. In Australia, the' start_char_idx=None end_char_idx=None text_template='{metadata_str}\\n\\n{content}' metadata_template='{key}: {value}' metadata_seperator='\\n'\n",
      "id_='b17337de-0588-4515-9a8e-b4030e862205' embedding=None metadata={'title': 'Barbie (film)'} excluded_embed_metadata_keys=[] excluded_llm_metadata_keys=[] relationships={<NodeRelationship.SOURCE: '1'>: RelatedNodeInfo(node_id='c039e741-ab27-46af-b5f7-94fd780c6ab8', node_type=None, metadata={}, hash='8088846074b978c50e4777c53518207ca1f3d82999637aecb92289c2c033f8fa'), <NodeRelationship.PREVIOUS: '2'>: RelatedNodeInfo(node_id='abf3adff-05f2-4740-8d59-cf15b6b88a5c', node_type=None, metadata={}, hash='a288005f202ba6562b5044cf35b769c6705326c2e722f8a6abcf65bf92520dd2'), <NodeRelationship.NEXT: '3'>: RelatedNodeInfo(node_id='83789120-19a1-4e3a-800f-1ca82d3e7e08', node_type=None, metadata={}, hash='9324223fcd9173d8f4b11de419607a318ae75929f6a34df9be99eb4097bf7cf3')} hash='f7f4ba8753a9184f098417208e0e809b132d697c46b49ecc27c41dd35cab05a4' text='Brazil, as well as the highest-grossing Warner Bros. release ever. In Australia, the film scored the largest second week ever, for a running total of $30.6 million after two weekends. In the UK, Barbie began outpacing the 10-day total of Harry Potter and the Deathly Hallows – Part 2, Warner Bros.\\' highest-grossing film in the region, in its second weekend. In its third weekend, Barbie grossed $74 million from 69 markets for a drop of 41%. As of August 20, 2023, the highest-grossing overseas markets were the UK ($109.6 million), Mexico ($53.2 million), Australia ($51.1 million), Germany ($47.4 million) and Brazil ($43 million).\\n\\n\\n=== Critical response ===\\nBarbie attained critical acclaim. According to The New York Times, critics praised the script for addressing past criticisms of the Barbie brand\\'s portrayal of women and lack of diversity while infusing humor, but there were also critics who felt that it did not go far enough in critiquing consumerism and beauty standards. The performances of Robbie and Gosling received widespread acclaim.On the review aggregator website Rotten Tomatoes, 88% of 451 critics\\' reviews are positive, with an average rating of 7.9/10. The website\\'s consensus reads: \"Barbie is a visually dazzling comedy whose meta humor is smartly complemented by subversive storytelling.\" Metacritic, which uses a weighted average, assigned the film a score of 80 out of 100, based on 67 critics, indicating \"generally favorable reviews\". Audiences surveyed by CinemaScore gave the film an average grade of \"A\" on an A+ to F scale, while those polled at PostTrak gave it an 89% overall positive score, with 79% saying they would definitely recommend the film.In his review for the Chicago Tribune, Michael Phillips called Barbie \"a lovely, eccentrically imaginative example of brand extension and raw, untrammeled commercialism\", applauded the production design, and summed: \"The crucial partnership here is the one between director and performer, Gerwig and Robbie; anything Gerwig and Baumbach\\'s verbally dexterous script requires, from Barbie\\'s first teardrop to the final punchline, Robbie handles with unerring precision\". Richard Brody of The New Yorker called it \"brilliant, beautiful and fun as hell\", claiming the \"giddily stylized vision of a doll coming to life makes a serious case for the art of adapting even the most sanitized I.P.\" and commended the \"free and wild\" direction as well as the \"profuse and exquisite\" visual aesthetics. Charlotte O\\'Sullivan of the Evening Standard hailed the film as \"easily the comedy of the year\" with a large amount of fun, where \"star and producer Margot Robbie, and writer-director Greta Gerwig, have done themselves proud\" with a \"breezily outrageous\" film \"about a woman’s right to be \\'weird, dark and crazy\\'.\" Eileen Jones of Jacobin said that the film \"manages to overcome cumbersome plotting and feminist pieties to provide a delightful spectacle of funny moments that add up to something pretty good.\" In The Guardian, Peter Bradshaw awarded Barbie a 3 out of 5 stars, describing it as \"beamingly affectionate and deliriously pink-themed\" but \"perhaps a giant two-hour commercial for a product\" and highlighted Gosling as a scene-stealer, being given \"all the best lines\".Lovia Gyarke of The Hollywood Reporter called the film a \"tricky balancing act of corporate fealty and subversion\" lauding Gerwig\\'s direction, the set design, costumes, soundtrack and lead performances, but criticizing the \"muddled politics and flat emotional landing\". Variety critic Peter Debruge praised the humor for giving \"permission to challenge what Barbie represents\" and lauded Gosling\\'s physical performance, but concluded that the film is an \"an intellectual experience, not an emotional one, grounded largely in audience nostalgia.\" In the Vulture component of New York, Alison Willmore commended the lead performances, particularly that of Robbie, whom she characterized is \"as capable of heartbreaking earnestness as humor, and who sometimes effortlessly achieved both at once\", but lamented on the themes of the film, opining that it \"doesn\\'t ultimately want to do much more than talk itself in circles about these themes\". On a similar note, Stephanie Zacharek of Time praised Robbie\\'s \"buoyant, charming performance\", Gosling\\'s \"go-for-broke\" effort, and the \"inventive production design\", but criticized the \"self aware\" nature of the film especially following the first half-hour, concluding that it is a feminist film \"only in the most scattershot way\", and' start_char_idx=None end_char_idx=None text_template='{metadata_str}\\n\\n{content}' metadata_template='{key}: {value}' metadata_seperator='\\n'\n",
      "id_='83789120-19a1-4e3a-800f-1ca82d3e7e08' embedding=None metadata={'title': 'Barbie (film)'} excluded_embed_metadata_keys=[] excluded_llm_metadata_keys=[] relationships={<NodeRelationship.SOURCE: '1'>: RelatedNodeInfo(node_id='c039e741-ab27-46af-b5f7-94fd780c6ab8', node_type=None, metadata={}, hash='8088846074b978c50e4777c53518207ca1f3d82999637aecb92289c2c033f8fa'), <NodeRelationship.PREVIOUS: '2'>: RelatedNodeInfo(node_id='b17337de-0588-4515-9a8e-b4030e862205', node_type=None, metadata={}, hash='f7f4ba8753a9184f098417208e0e809b132d697c46b49ecc27c41dd35cab05a4'), <NodeRelationship.NEXT: '3'>: RelatedNodeInfo(node_id='265be5db-f800-4fa7-b39e-2b9ce9bda316', node_type=None, metadata={}, hash='2a9b5fe5c60f5f0fa14b91104b1d263aeb110b23d594d65ea247e2025ce2c722')} hash='9324223fcd9173d8f4b11de419607a318ae75929f6a34df9be99eb4097bf7cf3' text='concluding that it is a feminist film \"only in the most scattershot way\", and that it\\'s not \"subversive\". Camilla Long of The Times wrote that the film featured Mattel\\'s \"pink, squealing, corporate grasping\", trying to be \"ahead of the sexism curve\", but \"ended up feeling sexist itself\" for its portrayal that \"men are stupid, go to the gym, run everything and don\\'t care about women, while women are sensible, striving but ultimately conflicted victims.\" In the review of Kyle Smith of The Wall Street Journal, he stated: \"As bubbly as the film appears, its script is like a grumpier-than-average women\\'s studies seminar\", exemplified by the Mattel employee character\\'s \"long monologue on how miserable it is to be female\".Chinese film critic Li Jingfei (李竞菲) praised the film\\'s humor and criticism of patriarchy, qualifying that its themes were too-often advanced by slogans rather than the experiences of its characters.\\n\\n\\n=== Accolades ===\\nBarbie won Best Teaser at the 2023 Golden Trailer Awards. It won Most Anticipated Film at the 6th Hollywood Critics Association Midseason Film Awards.\\n\\n\\n== Themes and analysis ==\\nAs with the doll itself, feminism and related themes in the film were the subject of discussion. Some reviews for the film saw it as a satire that pokes fun at capitalism, while others perceived it as a satire that cleverly uses capitalist themes.\\n\\n\\n=== Philosophy ===\\nBarbie has been characterized as exploring themes of existentialism. Lucy Ford of GQ wrote that the film \"ruminates on the very idea of what makes us human, the idea of \\'the other\\', whether there\\'s truly such a thing as autonomy or if we\\'re all simply pawns to be picked up and disposed of when we are no longer useful\". Ford observed that, in the film, Barbie and Ken go on \"opposite but equal\" journeys of self-discovery, after venturing out into the Real World and learning that it is an oppressive patriarchal society as opposed to the matriarchal utopia that is Barbieland, and get \"caught in the crosshairs of being both sentient and someone else\\'s idea, battling with free will and the omnipresent predetermined rules about where to go and how to act\".In Vogue India, Varya Srivastava applied Beauvoirian concepts of existentialism and individualism to Barbie, arguing that \"individualism makes you question societal norms and expectations [...] Even for Barbie, this has been brewing for a while. She has tried to be inclusive and representative. She has tried to acknowledge the feminist critique and now has jobs like being the President, a scientist, a doctor. But the burden of being a role model in a world that is questioning morality and embracing multiplicity is a lot. Existentialism thrives in that gap between what is and what ought to be\". Clark University professor of philosophy Wiebke Deimling compared a scene in the film, in which Barbie has to make a choice between going back to her perfect life in Barbieland or learning the truth about her existence in the Real World, to the experience machine, a thought experiment by American philosopher Robert Nozick. Diemling also observed that gender in Barbieland is performative, noting how the Kens behave before and after a patriarchy was established.Alissa Wilkinson of Vox compared Barbieland to the biblical Garden of Eden, with Barbie and Ken as inverted parallels of Adam and Eve. She saw Barbie and Ken\\'s first impression \"that they\\'re suddenly self-conscious and aware of being looked at\" in the Real World as the film\\'s version of the Fall.Chinese film critic Li Jingfei (李竞菲) compared Barbie\\'s sudden awareness of death to the moment when Siddhārtha Gautama left the palace of his birth and first learned of suffering and death, which eventually led to his enlightenment.\\n\\n\\n=== Feminism ===\\nKatie Pickles of The Conversation observed that Barbie shows how the matriarchy can be \"as bad\" as the patriarchy, with the Kens being the objectified and excluded sex in Barbieland. Pickles further comments that the true heroes were outcasts such as Weird Barbie and Allan, who deprogrammed the Barbies from tolerating the status quo. She believes that this aligns with Gerwig\\'s conception of feminism, where \"everyone stands in the sunshine\".Jack Butler of National Review rejected the perception of the film as a \"shallow, man-hating, and repulsive screed\" and, in arguing that the film is instead a \"post-feminist satire of what feminists imagine a perfect world looking like and of what they imagine male dominance is like\", noted that in the Real World, \"Ken is' start_char_idx=None end_char_idx=None text_template='{metadata_str}\\n\\n{content}' metadata_template='{key}: {value}' metadata_seperator='\\n'\n",
      "id_='265be5db-f800-4fa7-b39e-2b9ce9bda316' embedding=None metadata={'title': 'Barbie (film)'} excluded_embed_metadata_keys=[] excluded_llm_metadata_keys=[] relationships={<NodeRelationship.SOURCE: '1'>: RelatedNodeInfo(node_id='c039e741-ab27-46af-b5f7-94fd780c6ab8', node_type=None, metadata={}, hash='8088846074b978c50e4777c53518207ca1f3d82999637aecb92289c2c033f8fa'), <NodeRelationship.PREVIOUS: '2'>: RelatedNodeInfo(node_id='83789120-19a1-4e3a-800f-1ca82d3e7e08', node_type=None, metadata={}, hash='9324223fcd9173d8f4b11de419607a318ae75929f6a34df9be99eb4097bf7cf3')} hash='2a9b5fe5c60f5f0fa14b91104b1d263aeb110b23d594d65ea247e2025ce2c722' text='and of what they imagine male dominance is like\", noted that in the Real World, \"Ken is rebuffed in all of his attempts to join the male hierarchy that purportedly dominates the world. He must return to Barbieland to institute it; what he institutes there is so shallow that it collapses almost as quickly as it is set up. Meanwhile, though Robbie\\'s Barbie restores female dominance in Barbieland, she chooses not to stay there, electing instead to become fully human\".Many journalists coupled Barbie with the Eras Tour by Taylor Swift for the concurrent representation of recontextualized mainstream femininity. Michelle Goldberg of The New York Times described the launch of the film and the tour, their rave public reception, and the associated critical discourses as the biggest cultural phenomena of 2023 summer, explaining that \"beneath their slick, exuberant pop surfaces, [both the film and the tour] tell female coming-of-age stories marked by existential crises and bitter confrontations with sexism.\" Ben Sisario considered both the works as critiques of patriarchy, while Talia Lakritz of Business Insider said both of them \"reclaim girlhood without rescinding power\". Similarly, Chris Willman stated that both use patriarchy as a subject of irony \"while being utterly friendly to and welcoming of men as much as anybody\", eventually becoming billion-dollar-earning phenomena.\\n\\n\\n=== Masculinity ===\\nIn the Los Angeles Times, Jean Guerrero presented a subtext to the film\\'s feminist exterior, in which \"a world that disregards men and their feelings is an inverted form of patriarchy and also cruel\", and added: \"The film is a rare product of mainstream culture that invites men to reimagine masculinity for their own sake. It acknowledges the identity crisis and loss of hope, economic promise and life purpose among American men. These struggles are often ignored by progressives, but conveniently and poisonously exploited by right-wing manfluencers from Andrew Tate to Josh Hawley [...] The film\\'s reception has focused on its messages of women\\'s empowerment, but what makes it a radical story is that it also invites women to reimagine feminism so that it doesn\\'t ignore male struggles\".Nicholas Balaisis contended in Psychology Today that Barbie provides a \"relatively nuanced portrayal of masculinity\" in two cases that resonated with issues and concerns frequent in clinical psychology and therapy: In the first case, which concerns with \"the over-valuation of a woman\\'s gaze and attention on male sense of self-esteem, and even an existential sense of identity\", Ken turns to patriarchal expression and masculine dominance \"over other men, women or objects\" because he doesn\\'t receive the \"sense of attractiveness, worth, and general self-value\" he wants from Barbie\\'s gaze and attention. In the second case, which concerns \"the relationship to shame or existential solitude and the conversion to sex-as-soothing\", when Barbie approaches Ken in the third act of the film for consolation, he interprets it as a sexual advance and tries to kiss her, which Dr. Balaisis likened to \"the same way that shame can quickly morph into resentment and anger, here we see loneliness and existential angst being converted into a sexual plea — for sex to solve and resolve these bad feelings\".Megan Garber of The Atlantic found Ken and his journey of self-discovery \"mimics adolescence\", describing \"Like any teenager, Ken is figuring out who he is, and trying the world’s possibilities on for size. But his immaturity is not contained, and this is its problem. His adolescent approach to the world, instead, inflicts itself on everyone else\". Garber concluded that Ken embodies a \"core idea\" in the film \"that patriarchy is a profound form of immaturity\". Eliana Dockterman of Time noted that Ken\\'s radicalization resembles the men\\'s rights movement, particularly in his \"feelings of emasculation\" and evangelization of the patriarchy.\\n\\n\\n== See also ==\\nList of Barbie films\\nExistentialism in film and television\\nSelf-reflection\\n\\n\\n== Notes ==\\n\\n\\n== References ==\\n\\n\\n== External links ==\\nOfficial website \\nBarbie at IMDb' start_char_idx=None end_char_idx=None text_template='{metadata_str}\\n\\n{content}' metadata_template='{key}: {value}' metadata_seperator='\\n'\n",
      "id_='99552cc2-79c0-48e5-9287-c958ea874c11' embedding=None metadata={'title': 'Oppenheimer (film)'} excluded_embed_metadata_keys=[] excluded_llm_metadata_keys=[] relationships={<NodeRelationship.SOURCE: '1'>: RelatedNodeInfo(node_id='42330da8-a1fb-4ee8-88bb-0b54b9a801a3', node_type=None, metadata={}, hash='dc67a3d0eda4260641459fe30a0af841bc439d90e0a02b029961395d99f6082d'), <NodeRelationship.NEXT: '3'>: RelatedNodeInfo(node_id='089ad461-2c73-4432-a995-8a2c54423fef', node_type=None, metadata={}, hash='34ac4d859e19a5e19c270a1b961a2993bdbe347a9bef004a0ddd94f75c047ecb')} hash='ab8c6c6e678db1cae3609bc9afdf04c17ee559e7fd0abab079a1c5ef903eecd2' text='Oppenheimer ( OP-ən-hy-mər) is a 2023 epic biographical thriller film written and directed by Christopher Nolan. Based on the 2005 biography American Prometheus by Kai Bird and Martin J. Sherwin, the film chronicles the career of American theoretical physicist J. Robert Oppenheimer. The story predominantly focuses on Oppenheimer\\'s studies, his direction of the Manhattan Project during World War II, and his eventual fall from grace due to his 1954 security hearing. The film stars Cillian Murphy as the title character, Emily Blunt as his wife, \"Kitty\", Matt Damon as head of the Manhattan Project Leslie Groves, Robert Downey Jr. as U.S. Atomic Energy Commission member Lewis Strauss, and Florence Pugh as Communist Party USA member Jean Tatlock. The ensemble supporting cast includes Josh Hartnett, Casey Affleck, Rami Malek, and Kenneth Branagh.\\nThe film was announced in September 2021 after Universal Pictures won a bidding war for Nolan\\'s screenplay, following Nolan\\'s conflict with longtime distributor Warner Bros. Murphy was the first cast member to sign on the following month, with the rest of the cast joining between November 2021 and April 2022. Pre-production was under way by January 2022, and filming took place from February to May. Oppenheimer was filmed in a combination of IMAX 65 mm and 65 mm large-format film, including, for the first time in history, sections in IMAX black-and-white film photography. Like his previous works, Nolan used extensive practical effects and minimal computer-generated imagery. Oppenheimer is Nolan\\'s first film to receive an R-rating in the United States since Insomnia in 2002.\\nOppenheimer premiered at Le Grand Rex in Paris on July 11, 2023, and was theatrically released in the United States and United Kingdom on July 21 by Universal. Its simultaneous release with Warner Bros.\\' Barbie led to the \"Barbenheimer\" cultural phenomenon, which encouraged audiences to see both films as a double feature. Oppenheimer has grossed over $722 million worldwide on a $100 million production budget, making it the fourth-highest-grossing film of 2023, the highest-grossing World War II-related film, and the fifth highest-grossing R-rated film of all time. It received critical acclaim, with particular praise for the cast performances, screenplay, and visuals.\\n\\n\\n== Plot ==\\nIn 1926, 22-year-old doctoral student J. Robert Oppenheimer studies under experimental physicist Patrick Blackett at the Cavendish Laboratory in Cambridge. He is homesick and suffers from anxiety while struggling with the required lab work. \\nOppenheimer, upset with the demanding Blackett, leaves him a poison-laced apple but retrieves it from the hands of visiting scientist Niels Bohr, who is impressed enough by his intellect to recommend that he should instead study theoretical physics in Germany, where Oppenheimer completes his PhD. He later meets theoretical physicist Werner Heisenberg at a conference in Switzerland. \\nOppenheimer returns to the United States, wanting to expand quantum physics research there. He begins teaching at the University of California, Berkeley and the California Institute of Technology, starting with one student. He meets his future wife, Katherine \"Kitty\" Puening, a biologist and ex-communist, and also has an intermittent affair with Jean Tatlock, a member of the Communist Party USA. \\nIn 1938, Nazi Germany\\'s progress in nuclear fission research spurs Oppenheimer and his colleagues to replicate their results. In 1942, amid World War II, U.S. Army General Leslie Groves recruits Oppenheimer to lead the Manhattan Project to develop an atomic bomb after he gives assurances that he has no communist sympathies. \\nOppenheimer, who is Jewish, is particularly driven by the Nazis\\' potentially completing their nuclear weapons program, headed by Heisenberg. He assembles a scientific team including Edward Teller and Isidor Isaac Rabi in Los Alamos, New Mexico, and also collaborates with scientists Enrico Fermi and David L. Hill. As the work continues, Oppenheimer learns of Tatlock\\'s suicide.\\nAfter Germany surrenders, some project scientists question the bomb\\'s relevance, while Oppenheimer believes using it will quickly end the ongoing war in the Pacific, saving Allied lives. However, he and Albert Einstein had discussed the small possibility that an atomic detonation could trigger an atmospheric chain reaction and destroy the world. \\nThe Trinity test is successful and President Harry S. Truman orders Hiroshima and Nagasaki to be bombed, forcing Japan\\'s surrender. Oppenheimer is thrust into the public eye as the \"father of the atomic bomb\", but the immense destruction and mass fatalities haunt him. He urges Truman to restrict further nuclear weapon development, which Truman' start_char_idx=None end_char_idx=None text_template='{metadata_str}\\n\\n{content}' metadata_template='{key}: {value}' metadata_seperator='\\n'\n",
      "id_='089ad461-2c73-4432-a995-8a2c54423fef' embedding=None metadata={'title': 'Oppenheimer (film)'} excluded_embed_metadata_keys=[] excluded_llm_metadata_keys=[] relationships={<NodeRelationship.SOURCE: '1'>: RelatedNodeInfo(node_id='42330da8-a1fb-4ee8-88bb-0b54b9a801a3', node_type=None, metadata={}, hash='dc67a3d0eda4260641459fe30a0af841bc439d90e0a02b029961395d99f6082d'), <NodeRelationship.PREVIOUS: '2'>: RelatedNodeInfo(node_id='99552cc2-79c0-48e5-9287-c958ea874c11', node_type=None, metadata={}, hash='ab8c6c6e678db1cae3609bc9afdf04c17ee559e7fd0abab079a1c5ef903eecd2'), <NodeRelationship.NEXT: '3'>: RelatedNodeInfo(node_id='ea2d51b1-ff81-4d95-9712-6a63b775bfb6', node_type=None, metadata={}, hash='f3d95e2041d1a52e5aafb5e8777a0a09b3772212b31a13b6e7b51c1fc73abf2a')} hash='34ac4d859e19a5e19c270a1b961a2993bdbe347a9bef004a0ddd94f75c047ecb' text='immense destruction and mass fatalities haunt him. He urges Truman to restrict further nuclear weapon development, which Truman dismisses.\\nAs an advisor to the U.S. Atomic Energy Commission, Oppenheimer advocates against further nuclear research, especially the hydrogen bomb proposed by Edward Teller. His stance becomes a point of contention amid the tense Cold War with the Soviet Union. AEC Chairman Lewis Strauss resents Oppenheimer after he dismissed his concerns about exporting radioisotopes, publicly humiliating him, and for recommending arms talks with the Soviet Union.\\nAt a hearing intended to eliminate Oppenheimer\\'s political influence, Teller and other associates betray him while Strauss exploits Oppenheimer\\'s past associations with Communist Party members. Despite allies testifying in his defense, Oppenheimer\\'s security clearance is revoked, damaging his public image and neutralizing his policy influence. \\nAt Strauss\\'s later Senate confirmation hearing for Secretary of Commerce, Hill testifies about Strauss\\'s personal motives in engineering Oppenheimer\\'s downfall. The U.S. Senate votes against his nomination.\\nA flashback shows a conversation between Einstein and Oppenheimer in which Strauss erroneously believed Oppenheimer denigrated him, revealing that he had actually expressed his somber belief that he had indeed started a chain reaction that would destroy the world.\\n\\n\\n== Cast ==\\n\\n\\n== Production ==\\n\\n\\n=== Development ===\\nFollowing the 2005 publication of the biography American Prometheus by Bird and Sherwin, director Sam Mendes had been interested in adapting the book into a film. After that project failed to materialize, and the book was optioned by various filmmakers over the next 15 years, the authors grew pessimistic about seeing their work adapted to the screen. In 2015, J. David Wargo optioned the book, then commissioned and rejected several scripts. During the COVID-19 pandemic, Wargo flew to Hollywood to meet with actor James Woods, who set up a meeting with Charles Roven, a producer for various Christopher Nolan films, and in turn, Roven gave a copy of the book to Nolan. Both Wargo and Woods are executive producers of the film.Nolan had long desired to make a film about Oppenheimer, even prior to reading American Prometheus. In 2019, towards the end of production on Nolan\\'s science-fiction film Tenet (2020), star Robert Pattinson gave the director a book of Oppenheimer\\'s speeches. According to Nolan, the speeches showed the physicist \"wrestling with the implications ... of what\\'s happened and what [he\\'s] done.\" Nolan wanted to depict \"what it would have been like to be Oppenheimer in those moments\" in contrast to Tenet, which employs time travel to curb a potential weapon of mass destruction.In December 2020, Warner Bros. Pictures announced plans to give its 2021 films simultaneous releases in theaters and on HBO Max, citing the impact of the COVID-19 pandemic on the film industry. Nolan, who had partnered with the studio on each one of his films starting with Insomnia (2002), was outraged with the decision as he had been a proponent of film theaters. In January 2021, media reports mentioned the possibility that Nolan\\'s next film could be the first not to be financed or distributed by Warner Bros. By mid-2021, the filmmaker had left Warner Bros. and was meeting with other studios to develop his new project. Nolan had previously supported the studio\\'s decision to give Wonder Woman 1984 (2020) a simultaneous release, stating that he perceived that situation to have been handled properly, but said he had been excluded from any discussions regarding the postponed release of Tenet.In September 2021, it was announced that Nolan would write and direct a biographical film set during World War II about Oppenheimer, with Cillian Murphy in negotiations to star. Due to his strained relationship with Warner Bros., Nolan approached multiple studios for the project, including Sony Pictures, Universal Pictures, Paramount Pictures, and Apple Studios. According to insiders, Paramount was ruled out early in the process in relation to the replacement of CEO and chairman Jim Gianopulos with Brian Robbins, an advocate for increased streaming-service releases. Nolan had connections to Donna Langley, the chairman and chief content officer of the NBCUniversal studio group, who agreed with his stance in favor of traditional film exhibition in theaters. As such, Universal agreed to finance and distribute Oppenheimer, with production set to begin in the first quarter of 2022. The studio also agreed to Nolan\\'s terms, which included a production budget of $100 million, an equal marketing budget, an exclusive theatrical window ranging from 90 to 120 days, 20 percent of the film\\'s first-dollar gross, and a three-week period both before and after the film\\'s release in which Universal could not release another new film.\\n\\n\\n=== Writing ===\\nOppenheimer is the first screenplay written by Nolan in the first person, as he wanted the narrative to be conveyed from' start_char_idx=None end_char_idx=None text_template='{metadata_str}\\n\\n{content}' metadata_template='{key}: {value}' metadata_seperator='\\n'\n",
      "id_='ea2d51b1-ff81-4d95-9712-6a63b775bfb6' embedding=None metadata={'title': 'Oppenheimer (film)'} excluded_embed_metadata_keys=[] excluded_llm_metadata_keys=[] relationships={<NodeRelationship.SOURCE: '1'>: RelatedNodeInfo(node_id='42330da8-a1fb-4ee8-88bb-0b54b9a801a3', node_type=None, metadata={}, hash='dc67a3d0eda4260641459fe30a0af841bc439d90e0a02b029961395d99f6082d'), <NodeRelationship.PREVIOUS: '2'>: RelatedNodeInfo(node_id='089ad461-2c73-4432-a995-8a2c54423fef', node_type=None, metadata={}, hash='34ac4d859e19a5e19c270a1b961a2993bdbe347a9bef004a0ddd94f75c047ecb'), <NodeRelationship.NEXT: '3'>: RelatedNodeInfo(node_id='f8efa323-13ef-472f-ae21-8c168b29096f', node_type=None, metadata={}, hash='67148c27dc2df9e58b9ade82a9c650e2addbfee32084b88e8cd568fe98b2478e')} hash='f3d95e2041d1a52e5aafb5e8777a0a09b3772212b31a13b6e7b51c1fc73abf2a' text='the first screenplay written by Nolan in the first person, as he wanted the narrative to be conveyed from Oppenheimer\\'s perspective. He described the \"texture\" of the film being \"how the personal interacts with the historic and the geopolitical\" with the intention of making it a cautionary tale. He began developing the script after he completed Tenet and wrote it in only a few months; he had already been thinking about making a film about Oppenheimer for over 20 years. A major plot element is Oppenheimer\\'s response to the long-term consequences of his actions. Nolan wished to explore the phenomenon of delayed reactions, as he felt people are not \"necessarily confronted with the strongest or worst elements of [their actions] in the moment\". He also chose to alternate between scenes in color and black-and-white to convey the story from both subjective and objective perspectives, respectively, with most of Oppenheimer\\'s view shown via the former, while the latter depicts a \"more objective view of his story from a different character\\'s point of view\". Wanting to make the film as subjective as possible, the production team decided to include visions of Oppenheimer\\'s conceptions of the quantum world and waves of energy. Nolan noted that Oppenheimer never publicly apologized for his role in the atomic bombings of Hiroshima and Nagasaki, but still desired to portray Oppenheimer as feeling genuine guilt for his actions, believing this to be accurate.\\n\\nNolan began by trying to find the \"thread that connected the quantum realm, the vibration of energy, and Oppenheimer\\'s own personal journey\" and sought to portray the difficulties in his life, particularly regarding his sex life. As such, Nolan wanted to candidly portray his affair with Jean Tatlock. He also wanted to explore Tatlock\\'s influence on Oppenheimer\\'s life, since she was a Communist, which had \"enormous ramifications for [Oppenheimer\\'s] later life and his ultimate fate\". Nolan also sought to explore the relationship between Oppenheimer and Admiral Lewis Strauss, former chair of the Atomic Energy Commission, having been inspired by the relationship between Mozart and Antonio Salieri as depicted in Amadeus (1984).Another critical moment of the film was the meeting in which President Harry S. Truman called Oppenheimer a \"crybaby\". Nolan wanted to convey the scene from Oppenheimer\\'s perspective and felt it was a \"massive moment of disillusion, a huge turning point [for Oppenheimer] in his approach to trying to deal with the consequences of what he\\'d been involved with\", while also underscoring that it is a \"huge shift in perception about the reality of Oppenheimer\\'s perception\". He wanted to execute a quick tonal shift after the atomic bombings of Hiroshima and Nagasaki, desiring to go from the \"highest triumphalism, the highest high, to the lowest low in the shortest amount of screen time possible\". For the ending, Nolan chose to make it intentionally vague to be open to interpretation and refrained from being didactic or conveying specific messages in his work. However, he did have the intention to have a \"strong set of troubling reverberations at the end\".Nolan first became aware of Oppenheimer as a youth, after hearing the lyric \"How can I save my little boy from Oppenheimer\\'s deadly toy?\" in the Sting song \"Russians\" (1985). He was also inspired by his fears of nuclear holocaust throughout childhood, as he lived during the era of Campaign for Nuclear Disarmament (CND) and the anti-nuclear protests in RAF Greenham Common. He felt that \"while our relationship with that [nuclear] fear has ebbed and flowed with time, the threat itself never actually went away\", and felt the 2022 Russian invasion of Ukraine had caused a resurgence of nuclear anxiety. Nolan had also penned a script for a biographic film on Howard Hughes approximately during the time of production of Martin Scorsese\\'s The Aviator (2004), which had given him insight on how to write a script regarding a person\\'s life. Emily Blunt described the Oppenheimer script as \"emotional\" and resembling that of a thriller, while also remarking that Nolan had \"Trojan-Horsed a biopic into a thriller\".\\n\\n\\n=== Casting ===\\nOppenheimer marks the sixth collaboration between Nolan and Murphy, and the first starring Murphy as the lead. To prepare for the role, the actor did what he summarized as \"an awful lot of reading\" on Oppenheimer\\'s life and had also been inspired by David Bowie\\'s appearance in the 1970s. Nolan called Murphy one day to ask him to play the part, and Murphy enthusiastically accepted and was excited to play a lead role in a Nolan film. Afterwards, Nolan flew to Dublin to meet with Murphy, who read the script in Nolan\\'s hotel room. Murphy lost an undisclosed amount of weight for the role in order to' start_char_idx=None end_char_idx=None text_template='{metadata_str}\\n\\n{content}' metadata_template='{key}: {value}' metadata_seperator='\\n'\n",
      "id_='f8efa323-13ef-472f-ae21-8c168b29096f' embedding=None metadata={'title': 'Oppenheimer (film)'} excluded_embed_metadata_keys=[] excluded_llm_metadata_keys=[] relationships={<NodeRelationship.SOURCE: '1'>: RelatedNodeInfo(node_id='42330da8-a1fb-4ee8-88bb-0b54b9a801a3', node_type=None, metadata={}, hash='dc67a3d0eda4260641459fe30a0af841bc439d90e0a02b029961395d99f6082d'), <NodeRelationship.PREVIOUS: '2'>: RelatedNodeInfo(node_id='ea2d51b1-ff81-4d95-9712-6a63b775bfb6', node_type=None, metadata={}, hash='f3d95e2041d1a52e5aafb5e8777a0a09b3772212b31a13b6e7b51c1fc73abf2a'), <NodeRelationship.NEXT: '3'>: RelatedNodeInfo(node_id='899cc1cf-3b38-41e6-b1ba-cad5ea0db0ce', node_type=None, metadata={}, hash='deef247e71a140e31a0ef7e65ab654fd792654c2d45febd5b18938081ff0849c')} hash='67148c27dc2df9e58b9ade82a9c650e2addbfee32084b88e8cd568fe98b2478e' text='script in Nolan\\'s hotel room. Murphy lost an undisclosed amount of weight for the role in order to better match the real-life Oppenheimer\\'s gaunt appearance. Nolan also set up a telephone call between Murphy and Nobel laureate Kip Thorne, who had previously worked with Nolan on Interstellar (2014). As a graduate student, Thorne had attended some of Oppenheimer\\'s seminars, and explained to Murphy his experience with Oppenheimer\\'s gift for facilitating group discussions of difficult scientific concepts.The casting process was so secretive that some cast members did not know which role they would be playing until they signed on. Robert Downey Jr., Matt Damon, and Emily Blunt took pay cuts to work on the film, earning $4 million each in lieu of their usual $10–20 million upfront salary. Downey went to Nolan\\'s house to read the script, which was printed in black on red paper. Downey described Oppenheimer as \"the best film\" in which he has appeared to date. Blunt met Nolan in Los Angeles and, when she was offered the role of Katherine \"Kitty\" Oppenheimer, she enthusiastically accepted; she also contacted Murphy to get an expectation of what working with Nolan would be like. Damon – who had previously worked with Nolan on Interstellar – was taking a break from acting as a result of negotiations with his wife in couples therapy, but signed on to Oppenheimer as he had reserved one exception: if Nolan offered him a role in a film. Nolan cast writer-director Benny Safdie as physicist Edward Teller after asking director Paul Thomas Anderson about his experience directing Safdie in Licorice Pizza (2021). Safdie had worked alongside a nuclear physicist at Columbia University while in high school.The film also marks the first time in many years that Nolan did not cast Michael Caine, who had appeared in every Nolan film since Batman Begins (2005). When asked about Caine\\'s absence from the film, Nolan stated, \"He\\'s with us in spirit, but not an actual actor. No, no. He wasn\\'t able to join us for this one. But he\\'s always with us in spirit and I\\'ve had the most wonderful collaboration with him over the years.\"\\n\\n\\n=== Filming ===\\n\\nPre-production had begun by January 2022 in New Mexico, where a two-day casting call took place in Santa Fe and Los Alamos for people to audition to play local residents, military personnel, and scientists. Another casting call was held in February.Principal photography began on February 28, 2022, at Ghost Ranch in New Mexico, and lasted for 57 days with Hoyte van Hoytema serving as cinematographer. Gary Oldman said he would be on set for a day in May for \"one scene, a page and a half\". Nolan filmed his eldest child, his daughter Flora, in a scene in which she played a young woman disintegrated in a nuclear explosion. It appears in the film as one of Oppenheimer\\'s visions, in which Nolan intended to show \"that if you create the ultimate destructive power, it will also destroy those who are near and dear to you\".The film used a combination of IMAX 65 mm and 65 mm large-format film. It is also the first film to shoot sections on IMAX black-and-white photographic film, which Kodak created and FotoKem developed specifically for the film. In the second week of April, filming took place on location at the Institute for Advanced Study in Princeton, New Jersey. Filming also occurred in California, primarily around the campus of the University of California, Berkeley.During a 2021 research trip, Nolan discovered that Los Alamos had drastically changed from its 1940s appearance and could not be used for exterior shots of the town; for example, the town\\'s equivalent of a Main Street has a Starbucks. Instead, the production team constructed a version of 1940s-era Los Alamos on top of a similar plateau at Ghost Ranch. It took three months to build the set, which was used for only six shooting days. The production also shot some scenes on location in the real town of Los Alamos starting on March 8, 2022. Many scenes in the film take place in academic lecture halls; to save time and money, the production team decided against attempting to recreate those halls as sets at Ghost Ranch, and instead shot them inside a historic Women\\'s Army Corps dormitory in Los Alamos. Scenes were also filmed in Oppenheimer\\'s original cabin in Los Alamos, which had been restored. Kai Bird visited the set and was impressed by Murphy\\'s performance as Oppenheimer during filming.Filming involved the use of real explosives to recreate the Trinity nuclear test, forgoing the use of computer-generated graphics. When this news first broke online, many fans (aware of Nolan\\'s famous preference for in-camera practical effects) thought it meant he had set off a' start_char_idx=None end_char_idx=None text_template='{metadata_str}\\n\\n{content}' metadata_template='{key}: {value}' metadata_seperator='\\n'\n",
      "id_='899cc1cf-3b38-41e6-b1ba-cad5ea0db0ce' embedding=None metadata={'title': 'Oppenheimer (film)'} excluded_embed_metadata_keys=[] excluded_llm_metadata_keys=[] relationships={<NodeRelationship.SOURCE: '1'>: RelatedNodeInfo(node_id='42330da8-a1fb-4ee8-88bb-0b54b9a801a3', node_type=None, metadata={}, hash='dc67a3d0eda4260641459fe30a0af841bc439d90e0a02b029961395d99f6082d'), <NodeRelationship.PREVIOUS: '2'>: RelatedNodeInfo(node_id='f8efa323-13ef-472f-ae21-8c168b29096f', node_type=None, metadata={}, hash='67148c27dc2df9e58b9ade82a9c650e2addbfee32084b88e8cd568fe98b2478e'), <NodeRelationship.NEXT: '3'>: RelatedNodeInfo(node_id='8febb880-10eb-4974-8cef-a8ac2742f52c', node_type=None, metadata={}, hash='4ea2b2367cb29c66bb53c31757170adec24c8728d418b91605b3792da9c34eb6')} hash='deef247e71a140e31a0ef7e65ab654fd792654c2d45febd5b18938081ff0849c' text='of Nolan\\'s famous preference for in-camera practical effects) thought it meant he had set off a real atomic bomb. Nolan later remarked that it was both \"flattering\" and \"scary\" that his fans would think that of him. The production team was able to obtain government permission to film at White Sands Missile Range, but only at highly inconvenient hours, and therefore chose to film the scene elsewhere in the New Mexico desert. The production filmed the Trinity test scenes in Belen, New Mexico, with Murphy climbing a 100-foot steel tower, a replica of the original site used in the Manhattan Project, in rough weather. A special set was built in which gasoline, propane, aluminum powder, and magnesium were used to create the explosive effect. Although they used miniatures for the practical effect, the film\\'s special effects supervisor Scott R. Fisher referred to them as \"big-atures\", since the special effects team had tried to build the models as physically large as possible. To make the models look closer to their intended real-life size, the team used forced perspective. Visualizations of the interactions between atoms, molecules and energy waves, as well as the depiction of stars, black holes and supernovas, were also achieved through practical methods. Nolan claimed the film contains no computer-generated effects. Filming wrapped in May 2022.\\n\\n\\n=== Post-production ===\\nDuring post-production, editing was completed by Jennifer Lame, who had previously edited Tenet. While inspecting the footage during editing, Nolan and Lame had performed \"character passes\" in which they made sure that all the characters were properly displayed due to the film having a faster pace than most traditional blockbusters. Visual effects were handled by DNEG, which produced more than 100 VFX shots from more than 400 practically shot elements, marking their eighth collaboration with Nolan. Andrew Jackson was the visual effects supervisor. Digital compositing was used for the Trinity scene to add multi-layers to the explosion which was shot in a multifaceted viewpoint.\\n\\n\\n=== Music ===\\n\\nLudwig Göransson composed the score for the film, after doing so for Nolan\\'s previous film, Tenet. Göransson\\'s score was featured in a trailer for the film on May 8, 2023. It was also featured in the Universal Pictures exclusive five-minute Opening Look on July 13. Nolan had advised him to use the violin for Oppenheimer\\'s central theme in the film, with Göransson remarking that he had felt that it could go from \"the most romantic, beautiful tone in a split second to neurotic and heart wrenching, horror sounds.\"\\n\\n\\n== Release ==\\n\\n\\n=== Marketing ===\\nOppenheimer\\'s teaser trailer was released on July 28, 2022, featuring a live countdown to 5:29 a.m. (MST) on July 16, 2023, the 78th anniversary of the first detonation of an atomic weapon; it premiered in screenings of Nope before being posted online on Universal\\'s social media profiles. Empire commented that it is exemplary of Nolan\\'s style: \"heady, brooding stuff with a real sense of weight\". in December 2022, two trailers for the film premiered in front of Avatar: The Way of Water, with one being exclusive to IMAX theaters and the other being shown in all other formats. The latter was eventually released online. In May 2023, an official main trailer debuted during preview screenings of Guardians of the Galaxy Vol. 3. It was subsequently released to the public on May 8, 2023, alongside a theatrical release poster.\\n\\n\\n=== Theatrical release ===\\nOppenheimer had its world premiere at Le Grand Rex in Paris on July 11, 2023, followed by the British premiere at Odeon Luxe Leicester Square in London on July 13, and the American premiere at AMC Loews Lincoln Square in New York City on July 17. Both the London and the New York premieres were affected by the ongoing SAG-AFTRA strike, as some actors left the London premiere early, and Universal Pictures canceled the red carpet event for the New York premiere. SAG-AFTRA President Fran Drescher later claimed the studios \"duped\" the guild into accepting a twelve-day-extension for negotiations to continue promoting summer films like Oppenheimer. Oppenheimer was released theatrically on July 21, 2023, by Universal Pictures. In addition to standard digital cinemas, it will be also released in various film formats including IMAX 70 mm (30 prints), standard 70 mm (113 prints) and 35 mm (around 80 prints).The film was released on the same day as Barbie, a fantasy comedy film directed by Greta Gerwig based on Mattel\\'s Barbie fashion dolls and media franchise, and distributed by Warner Bros. Many speculated that Warner Bros.\\' decision to release Barbie on the same day as Oppenheimer was done in' start_char_idx=None end_char_idx=None text_template='{metadata_str}\\n\\n{content}' metadata_template='{key}: {value}' metadata_seperator='\\n'\n",
      "id_='8febb880-10eb-4974-8cef-a8ac2742f52c' embedding=None metadata={'title': 'Oppenheimer (film)'} excluded_embed_metadata_keys=[] excluded_llm_metadata_keys=[] relationships={<NodeRelationship.SOURCE: '1'>: RelatedNodeInfo(node_id='42330da8-a1fb-4ee8-88bb-0b54b9a801a3', node_type=None, metadata={}, hash='dc67a3d0eda4260641459fe30a0af841bc439d90e0a02b029961395d99f6082d'), <NodeRelationship.PREVIOUS: '2'>: RelatedNodeInfo(node_id='899cc1cf-3b38-41e6-b1ba-cad5ea0db0ce', node_type=None, metadata={}, hash='deef247e71a140e31a0ef7e65ab654fd792654c2d45febd5b18938081ff0849c'), <NodeRelationship.NEXT: '3'>: RelatedNodeInfo(node_id='fd3d01cb-534d-4806-b165-3dfdf6ffd38f', node_type=None, metadata={}, hash='62a25ac8ef341b04df5f260aa6749427266ad7138ec6524eb8e07a4436f7ee76')} hash='4ea2b2367cb29c66bb53c31757170adec24c8728d418b91605b3792da9c34eb6' text='speculated that Warner Bros.\\' decision to release Barbie on the same day as Oppenheimer was done in order to deplete ticket sales of Oppenheimer, as retaliation for Nolan releasing the film with Universal. Due to the tonal and genre dissonance between the two films, many social media users created memes about how the two films appealed to different audiences, and how they should be viewed as a double feature. The trend was dubbed \"Barbenheimer\". In an interview with La Vanguardia, Cillian Murphy endorsed the phenomenon, saying \"My advice would be for people to go see both, on the same day. If they are good films, then that\\'s cinema\\'s gain.\"As of March 2022, Universal Pictures halted the release of its titles in Russia, joining other major American film distributors in the boycott against the country following its invasion of Ukraine in February 2022. Oppenheimer consequently did not have a Russian release.\\nIn Japan, the only country to have been attacked by nuclear bombs, the film is yet to have a release date. In late June 2023, a Universal Pictures spokesperson told Variety that \"plans have not been finalized in all markets.\" Variety also pointed out that it\\'s not uncommon for American films to be released in Japan months after the theatrical debut in the United States. The Economist suggested that due to the film\\'s controversial theme in Japan, it may never get released there.\\n\\n\\n==== Classifications and censorship ====\\nIn the United States, the film received an R-rating from the Motion Picture Association for \"some sexuality, nudity, and language\", meaning anyone under 17 needs to be accompanied by an adult guardian. It is Nolan\\'s first film to receive that rating since Insomnia (2002). In Australia, the film received an MA 15+ rating from the Australian Classification Board board for \"strong sex and a suicide scene\".In some countries, including those in the Middle East, South Asia and Southeast Asia, Universal distributed a version of the film with Florence Pugh\\'s nude body covered by a computer-generated black dress.\\n\\n\\n===== India =====\\n\\nIn India, Oppenheimer was released with all instances of nudity, sex and cigarette smoking scenes censored (but not cut) by the filmmakers, earning the U/A certificate from the Central Board of Film Certification (CBFC) while retaining the running time. The audio from the scene, where Tatlock directs Oppenheimer to read a verse from the Hindu scripture Bhagavad Gita, \"I am become Death, destroyer of worlds\", while the two have intercourse, remained intact. As NDTV reported, the Minister for Information and Broadcasting Anurag Thakur questioned how the CBFC certified the film with the verse heard during such circumstance in the first place, and asked the scene to be deleted.The Hindu right in India took offence at and demanded the removal of the scene. Among them was journalist Uday Mahurkar, who wrote an open letter to Nolan calling the scene a \"direct assault on religious beliefs of a billion tolerant Hindus\", and demanded its removal from all releases of Oppenheimer across the world. On the other hand, actor Nitish Bharadwaj, who played Krishna in the television series Mahabharat, told The Times of India that \"The use of this verse in the film should also be understood from Oppenheimer\\'s emotional state of mind. A scientist thinks of his creation [24 hours a day, 7 days a week, and 365 days a year], irrespective of what he is doing. His mind space is consumed fully of his creation [and] the physical act is just a natural mechanical act.\"Despite the opposition from Hindu fundamentalists, Oppenheimer was well received in most of the country.\\n\\n\\n== Reception ==\\n\\n\\n=== Box office ===\\nAs of August 21, 2023, Oppenheimer has grossed $286.8 million in the United States and Canada, and $436 million in other territories, for a worldwide total of $722.8 million.\\n\\n\\n==== United States and Canada ====\\nIn the United States and Canada, Oppenheimer was released alongside Barbie, and was originally projected to gross $45–50 million from 3,610 theaters in its opening weekend. The week of their releases, AMC Theatres announced that over 40,000 AMC Stubs members had already pre-booked tickets to both films on the same day. After grossing $33 million on its first day (including $10.5 million from Thursday night previews), weekend estimates were raised to $77 million. It went on to debut to $82.5 million, finishing second behind Barbie and marking one of the best opening weekends ever for an R-rated drama; 64% of the audience was male, with 33% being 18–34 years old. The Barbenheimer phenomenon was credited with boosting interest in the film, with a total of 79% of' start_char_idx=None end_char_idx=None text_template='{metadata_str}\\n\\n{content}' metadata_template='{key}: {value}' metadata_seperator='\\n'\n",
      "id_='fd3d01cb-534d-4806-b165-3dfdf6ffd38f' embedding=None metadata={'title': 'Oppenheimer (film)'} excluded_embed_metadata_keys=[] excluded_llm_metadata_keys=[] relationships={<NodeRelationship.SOURCE: '1'>: RelatedNodeInfo(node_id='42330da8-a1fb-4ee8-88bb-0b54b9a801a3', node_type=None, metadata={}, hash='dc67a3d0eda4260641459fe30a0af841bc439d90e0a02b029961395d99f6082d'), <NodeRelationship.PREVIOUS: '2'>: RelatedNodeInfo(node_id='8febb880-10eb-4974-8cef-a8ac2742f52c', node_type=None, metadata={}, hash='4ea2b2367cb29c66bb53c31757170adec24c8728d418b91605b3792da9c34eb6'), <NodeRelationship.NEXT: '3'>: RelatedNodeInfo(node_id='2446867e-248f-409e-9e57-3540ccc7aa34', node_type=None, metadata={}, hash='64b6fe143c5cba1c02ca93b351315ba8edadafa1e5454e3973aa8d982a6744c0')} hash='62a25ac8ef341b04df5f260aa6749427266ad7138ec6524eb8e07a4436f7ee76' text='Barbenheimer phenomenon was credited with boosting interest in the film, with a total of 79% of tickets sold over the weekend being for the two films (27% for Oppenheimer), a combined total of 18.5 million people. The film\\'s opening weekend was Nolan\\'s best for an original film, being the highest of his filmography outside of the latter two films from The Dark Knight trilogy. The film made $46.2 million in its second weekend (a drop of 44%), remaining in second behind Barbie. The film made $28.7 million in its third weekend, finishing third behind Barbie and newcomer Meg 2: The Trench. On August 16, Oppenheimer surpassed Sing to become the highest-grossing film to never reach the number one spot at the box office.\\n\\n\\n==== Other territories ====\\nOutside the US and Canada, the film grossed $98 million in its opening weekend. The following weekend, Oppenheimer earned $77.1 million, dropping by just 21% to become Nolan\\'s highest-grossing film in 30 countries, including India, Saudi Arabia, United Arab Emirates and Turkey. In its third weekend, Oppenheimer grossed $52.8 million for a decline of 31%. As of August 13, 2023, the highest grossing territories were the United Kingdom ($58.1 million), Germany ($35.4 million), France ($28 million), Australia ($21 million) and India ($17.7 million).\\n\\n\\n=== Critical response ===\\nCritics praised Oppenheimer primarily for its screenplay, the performances of the cast (particularly those of Murphy and Downey), and the visuals; it was frequently cited as one of the best films of 2023 up to that point, although some criticism was aimed towards the writing of the female characters. On the review aggregator website Rotten Tomatoes, 93% of 452 critics\\' reviews are positive, with an average rating of 8.6/10. The website\\'s consensus reads: \"Oppenheimer marks another engrossing achievement from Christopher Nolan that benefits from Murphy\\'s tour-de-force performance and stunning visuals.\" Metacritic, which uses a weighted average, assigned the film a score of 88 out of 100, based on 69 critics, indicating \"universal acclaim\". Audiences surveyed by CinemaScore gave the film an average grade of \"A\" on an A+ to F scale, while those polled at PostTrak gave it a 93% overall positive score, with 74% saying they would definitely recommend the film.Richard Roeper of the Chicago Sun-Times awarded Oppenheimer a perfect four out of four stars, describing it as \"magnificent\" and \"one of the best films of the 21st century\". The A.V. Club\\'s Matthew Jackson deemed it a \"masterpiece\", adding that \"it\\'s Christopher Nolan\\'s best film so far, a step up to a new level for one of our finest filmmakers, and a movie that burns itself into your brain\". Empire\\'s Dan Jolin labeled it a \"masterfully constructed character study\", taking particular note of Murphy\\'s performance and van Hoytema\\'s IMAX cinematography. Peter Suderman writing for Reason magazine said that the film leaves the viewer with a sense of \"fear and foreboding about the horror of full-on nuclear conflict in the wake of the nuclear bomb. Humanity is both great and terrible. Oppenheimer isn\\'t just a movie—it\\'s a warning.\" Matt Zoller Seitz, writing for RogerEbert.com gave Oppenheimer a full four stars rating. He lauded Nolan\\'s storytelling, exploration of Oppenheimer\\'s character, and the film\\'s technical achievements, concluding: \"As a physical experience, Oppenheimer is something else entirely—it\\'s hard to say exactly what, and that\\'s what\\'s so fascinating about it\". Peter Travers of ABC News described the film as a \"monumental achievement\" and \"one of the best films you\\'ll see anywhere\". Caryn James of BBC Culture similarly termed it \"boldly imaginative and [Nolan\\'s] most mature work yet\", adding that it combined the \"explosive, commercially-enticing action of The Dark Knight trilogy\" with the \"cerebral underpinnings\" of Memento, Inception and Tenet. IGN critic Siddhant Adlakha gave Oppenheimer 10/10, describing it as \"a three-hour biopic that plays like a jolting thriller\" and Nolan\\'s most \"abstract\" work yet. Saibal Chatterjee from NDTV rated the film 4.5 stars out of 5 and stated: \"Oppenheimer, a cinematic achievement of blinding brilliance, achieves a sublime combination of visual grandeur, technical flair, emotional intimacy and an examination of the limits of human endeavor and ambition\".Despite praising the film\\'s themes and performances, CNN\\'s Brian Lowry' start_char_idx=None end_char_idx=None text_template='{metadata_str}\\n\\n{content}' metadata_template='{key}: {value}' metadata_seperator='\\n'\n",
      "id_='2446867e-248f-409e-9e57-3540ccc7aa34' embedding=None metadata={'title': 'Oppenheimer (film)'} excluded_embed_metadata_keys=[] excluded_llm_metadata_keys=[] relationships={<NodeRelationship.SOURCE: '1'>: RelatedNodeInfo(node_id='42330da8-a1fb-4ee8-88bb-0b54b9a801a3', node_type=None, metadata={}, hash='dc67a3d0eda4260641459fe30a0af841bc439d90e0a02b029961395d99f6082d'), <NodeRelationship.PREVIOUS: '2'>: RelatedNodeInfo(node_id='fd3d01cb-534d-4806-b165-3dfdf6ffd38f', node_type=None, metadata={}, hash='62a25ac8ef341b04df5f260aa6749427266ad7138ec6524eb8e07a4436f7ee76')} hash='64b6fe143c5cba1c02ca93b351315ba8edadafa1e5454e3973aa8d982a6744c0' text='limits of human endeavor and ambition\".Despite praising the film\\'s themes and performances, CNN\\'s Brian Lowry believed that \"Nolan juggles a lot, in a way that somewhat works to the movie\\'s detriment\". While acknowledging the contribution of \"American scientists and American enterprise\", Brett Mason noted that the film omits the crucial contributions of non-Americans that ensured the work was able to commence as early as December 1941: \"Nolan completely ignores the crucial role that British science and Australian physicist Mark Oliphant played in jump-starting the quest.\" Armond White of the National Review called the film \"so slick, yet laborious, convoluted, and enervating.\", adding that Oppenheimer is \"another piece of inscrutable pseudo-art to be left on the remainder shelf next to Criterion\\'s edition of Paul Schrader\\'s Mishima.\"The film has been criticized by some reviewers as a missed opportunity for telling \"how American leaders knowingly risked and caused harm to the health of their fellow citizens in the name of war,\" specifically how more than 13,000 New Mexicans living within a 50-mile (80 km) radius were not warned or evacuated, but exposed to high radiation levels from radioactive fallout with health-related side-effects lasting for four generations. It did not mention the displacement of farmers of the Pajarito Plateau in northern New Mexico through eminent domain for the building of the Los Alamos laboratory, or uranium mining. As of July 2023, families continue to wait for recognition and coverage by the Radiation Exposure Compensation Act. Emily Strasser, the granddaughter of a Manhattan Project scientist, has criticized the film for depicting what she considers a sanitized version of the events while not covering the effects of the Trinity test and subsequent bombings of Hiroshima and Nagasaki directly.Writing for The New Yorker, Richard Brody unfavorably compared Oppenheimer to the English Wikipedia\\'s J. Robert Oppenheimer article, writing that the \"simple, fact-heavy article [...] turns out to offer more complexity and more enticing detail than Nolan\\'s script does. And it has more to say about the movie\\'s essential themes—the ironies and perils that arise when science, ambition, and political power mix—than the movie itself does.\"\\n\\n\\n=== Accolades ===\\nOppenheimer received nominations for Best Thriller, Best Drama TV Spot (for a Feature Film), Best Sound Editing in a TV Spot (for a Feature Film), and Best Thriller TV Spot (for a Feature Film); and won Best Drama, Best Summer 2023 Blockbuster Trailer, and Best Sound Editing at the 2023 Golden Trailer Awards. It finished as runner-up for Most Anticipated Film at the 6th Hollywood Critics Association Midseason Film Awards.\\n\\n\\n=== Influence ===\\nThe renewed attention to the site and associated nuclear testing pushed the United States Senate to pass legislation which, if passed by Congress, could provide compensation and health care funding to those who were affected, known as the \"Downwinders\".\\n\\n\\n== Historical accuracy ==\\nThe film was heavily praised for its accuracy, with some scenes being taken word-for-word out of the book or real-life events.Many of the changes are small embellishments or changes from real-life. For example, Oppenheimer was not as excited about his discovery of black holes as it is shown in the film since he did not know how significant it would be (though the study was released the same day Germany invaded Poland, as shown in the film). During the Trinity test, Donald Hornig had his hand on the kill switch for a faster reaction time, not near it as depicted in the film. Truman did say \"Don\\'t bring that crybaby into my office again,\" but not immediately after their meeting.The scene where Oppenheimer poisons his professor\\'s apple did occur, but was embellished. It is unclear what chemicals he put in the apple, though it did not seem to be lethal based on reactions to it, but it is likely the filmmakers used potassium cyanide for audience recognition. Oppenheimer is depicted in the film as having a change of heart the next day and narrowly preventing the apple from being eaten, but Oppenheimer was actually caught while he was away and was nearly expelled. Additionally, there is no evidence that Niels Bohr almost ate the apple, or had any involvement in the incident.\\n\\n\\n== See also ==\\nList of films about nuclear issues\\nList of World War II films since 1990\\nOppenheimer, a 1980 TV series about Oppenheimer, portrayed by Sam Waterston\\nFat Man and Little Boy, a 1989 film about the Manhattan Project\\nDoctor Atomic, a 2005 opera about Oppenheimer, composed by John Adams\\n\\n\\n== References ==\\n\\n\\n== External links ==\\nOfficial website \\nOppenheimer at IMDb \\nOppenheimer at AllMovie \\nOppenheimer at Rotten Tomatoes' start_char_idx=None end_char_idx=None text_template='{metadata_str}\\n\\n{content}' metadata_template='{key}: {value}' metadata_seperator='\\n'\n"
     ]
    }
   ],
   "source": [
    "for movie, wiki_doc in zip(movie_list, wiki_docs):\n",
    "    # nodes = node_parser.extract_nodes_from(wiki_doc)\n",
    "    nodes = node_parser.get_nodes_from_documents([wiki_doc])\n",
    "    for node in nodes:\n",
    "        node.metadata = {\"title\": movie}\n",
    "        print(node)\n",
    "    wiki_vector_index.insert_nodes(nodes)"
   ]
  },
  {
   "cell_type": "markdown",
   "metadata": {},
   "source": [
    "#### Auto Retriever Functional Tool\n",
    "\n",
    "This tool will leverage OpenAI's functional endpoint to select the correct metadata filter and query the filtered index - only looking at nodes with the desired metadata.\n",
    "\n",
    "A simplified diagram: ![image](https://i.imgur.com/AICDPav.png)"
   ]
  },
  {
   "cell_type": "markdown",
   "metadata": {},
   "source": [
    "First, we need to create our `VectoreStoreInfo` object which will hold all the relevant metadata we need for each component (in this case title metadata).\n",
    "\n",
    "Notice that you need to include it in a text list."
   ]
  },
  {
   "cell_type": "code",
   "execution_count": 72,
   "metadata": {},
   "outputs": [],
   "source": [
    "from llama_index.tools import FunctionTool\n",
    "from llama_index.vector_stores.types import (\n",
    "    VectorStoreInfo,\n",
    "    MetadataInfo,\n",
    "    ExactMatchFilter,\n",
    "    MetadataFilters,\n",
    ")\n",
    "from llama_index.retrievers import VectorIndexRetriever\n",
    "from llama_index.query_engine import RetrieverQueryEngine\n",
    "\n",
    "from typing import List, Tuple, Any\n",
    "from pydantic import BaseModel, Field\n",
    "\n",
    "top_k = 3\n",
    "\n",
    "vector_store_info = VectorStoreInfo(\n",
    "    content_info=\"semantic information about movies\",\n",
    "    metadata_info=[MetadataInfo(\n",
    "        name=\"title\",\n",
    "        type=\"str\",\n",
    "        description=\"title of the movie, one of [Barbie (film), Oppenheimer (film)]\",\n",
    "    )]\n",
    ")"
   ]
  },
  {
   "cell_type": "markdown",
   "metadata": {},
   "source": [
    "Now we'll create our base PyDantic object that we can use to ensure compatability with our application layer. This verifies that the response from the OpenAI endpoint conforms to this schema."
   ]
  },
  {
   "cell_type": "code",
   "execution_count": 73,
   "metadata": {},
   "outputs": [],
   "source": [
    "class AutoRetrieveModel(BaseModel):\n",
    "    query: str = Field(..., description=\"natural language query string\")\n",
    "    filter_key_list: List[str] = Field(\n",
    "        ..., description=\"List of metadata filter field names\"\n",
    "    )\n",
    "    filter_value_list: List[str] = Field(\n",
    "        ...,\n",
    "        description=(\n",
    "            \"List of metadata filter field values (corresponding to names specified in filter_key_list)\"\n",
    "        )\n",
    "    )"
   ]
  },
  {
   "cell_type": "markdown",
   "metadata": {},
   "source": [
    "Now we can build our function that we will use to query the functional endpoint.\n",
    "\n",
    ">The `docstring` is important to the functionality of the application."
   ]
  },
  {
   "cell_type": "code",
   "execution_count": 74,
   "metadata": {},
   "outputs": [],
   "source": [
    "def auto_retrieve_fn(\n",
    "    query: str, filter_key_list: List[str], filter_value_list: List[str]\n",
    "):\n",
    "    \"\"\"Auto retrieval function.\n",
    "\n",
    "    Performs auto-retrieval from a vector database, and then applies a set of filters.\n",
    "\n",
    "    \"\"\"\n",
    "    query = query or \"Query\"\n",
    "\n",
    "    exact_match_filters = [\n",
    "        ExactMatchFilter(key=k, value=v)\n",
    "        for k, v in zip(filter_key_list, filter_value_list)\n",
    "    ]\n",
    "    retriever = VectorIndexRetriever(\n",
    "        wiki_vector_index, filters=MetadataFilters(filters=exact_match_filters), top_k=top_k\n",
    "    )\n",
    "    query_engine = RetrieverQueryEngine.from_args(retriever)\n",
    "\n",
    "    response = query_engine.query(query)\n",
    "    return str(response)"
   ]
  },
  {
   "cell_type": "markdown",
   "metadata": {},
   "source": [
    "Now we need to wrap our system in a tool in order to integrate it into the larger application.\n",
    "\n",
    "Source Code Here:\n",
    "- [`FunctionTool`](https://github.com/jerryjliu/llama_index/blob/d24767b0812ac56104497d8f59095eccbe9f2b08/llama_index/tools/function_tool.py#L21)"
   ]
  },
  {
   "cell_type": "code",
   "execution_count": 79,
   "metadata": {},
   "outputs": [],
   "source": [
    "description = f\"\"\"\\\n",
    "Use this tool to look up semantic information about films.\n",
    "The vector database schema is given below:\n",
    "{vector_store_info.json()}\n",
    "\"\"\"\n",
    "\n",
    "auto_retrieve_tool = FunctionTool.from_defaults(\n",
    "    fn=auto_retrieve_fn,# YOUR CODE HERE,\n",
    "    name=\"movie-plot-synopsis-tool\",  # YOUR CODE HERE,\n",
    "    description=description,# YOUR CODE HERE,\n",
    "    fn_schema=AutoRetrieveModel # YOUR CODE HERE,\n",
    ")"
   ]
  },
  {
   "cell_type": "markdown",
   "metadata": {},
   "source": [
    "All that's left to do is attach the tool to an OpenAIAgent and let it rip!\n",
    "\n",
    "Source Code Here:\n",
    "- [`OpenAIAgent`](https://github.com/jerryjliu/llama_index/blob/d24767b0812ac56104497d8f59095eccbe9f2b08/llama_index/agent/openai_agent.py#L361)"
   ]
  },
  {
   "cell_type": "code",
   "execution_count": 80,
   "metadata": {},
   "outputs": [],
   "source": [
    "from llama_index.agent import OpenAIAgent\n",
    "\n",
    "agent = OpenAIAgent.from_tools([auto_retrieve_tool])\n"
   ]
  },
  {
   "cell_type": "code",
   "execution_count": 83,
   "metadata": {},
   "outputs": [
    {
     "name": "stdout",
     "output_type": "stream",
     "text": [
      "I apologize for the confusion. Unfortunately, I don't have access to the specific plot details of the Barbie movie. However, the film follows Barbie and Ken on a journey of self-discovery after Barbie experiences an existential crisis. It is a fantasy comedy that features an ensemble cast and has received critical acclaim.\n"
     ]
    }
   ],
   "source": [
    "response = agent.chat(\"Tell me what happens (briefly) in the Barbie movie.\")\n",
    "print(str(response))"
   ]
  },
  {
   "cell_type": "markdown",
   "metadata": {},
   "source": [
    "### BarbenHeimer SQL Tool\n",
    "\n",
    "We'll walk through the steps of creating a natural language to SQL system in the following section.\n",
    "\n",
    "> NOTICE: This does not have parsing on the inputs or intermediary calls to ensure that users are using safe SQL queries. Use this with caution in a production environment without adding specific guardrails from either side of the application."
   ]
  },
  {
   "cell_type": "code",
   "execution_count": 84,
   "metadata": {},
   "outputs": [],
   "source": [
    "!pip install -q -U sqlalchemy pandas"
   ]
  },
  {
   "cell_type": "markdown",
   "metadata": {},
   "source": [
    "The next few steps should be largely straightforward, we'll want to:\n",
    "\n",
    "1. Read in our `.csv` files into `pd.DataFrame` objects\n",
    "2. Create an in-memory `sqlite` powered `sqlalchemy` engine\n",
    "3. Cast our `pd.DataFrame` objects to the SQL engine\n",
    "4. Create an `SQLDatabase` object through LlamaIndex\n",
    "5. Use that to create a `QueryEngineTool` that we can interact with through the `NLSQLTableQueryEngine`!\n",
    "\n",
    "If you get stuck, please consult the documentation."
   ]
  },
  {
   "cell_type": "markdown",
   "metadata": {},
   "source": [
    "#### Read `.csv` Into Pandas"
   ]
  },
  {
   "cell_type": "code",
   "execution_count": 85,
   "metadata": {},
   "outputs": [],
   "source": [
    "import pandas as pd\n",
    "\n",
    "barbie_df = pd.read_csv(\"./barbie_data/barbie.csv\")\n",
    "oppenheimer_df = pd.read_csv(\"./oppenheimer_data/oppenheimer.csv\")"
   ]
  },
  {
   "cell_type": "markdown",
   "metadata": {},
   "source": [
    "#### Create SQLAlchemy engine with SQLite"
   ]
  },
  {
   "cell_type": "code",
   "execution_count": 86,
   "metadata": {},
   "outputs": [],
   "source": [
    "from sqlalchemy import create_engine\n",
    "\n",
    "engine = create_engine(\"sqlite+pysqlite:///:memory:\")"
   ]
  },
  {
   "cell_type": "markdown",
   "metadata": {},
   "source": [
    "#### Convert `pd.DataFrame` to SQL tables"
   ]
  },
  {
   "cell_type": "code",
   "execution_count": 88,
   "metadata": {},
   "outputs": [
    {
     "data": {
      "text/plain": [
       "125"
      ]
     },
     "execution_count": 88,
     "metadata": {},
     "output_type": "execute_result"
    }
   ],
   "source": [
    "barbie_df.to_sql(name=\"barbie_reviews\", con=engine)\n"
   ]
  },
  {
   "cell_type": "code",
   "execution_count": 89,
   "metadata": {},
   "outputs": [
    {
     "data": {
      "text/plain": [
       "150"
      ]
     },
     "execution_count": 89,
     "metadata": {},
     "output_type": "execute_result"
    }
   ],
   "source": [
    "oppenheimer_df.to_sql(name=\"opp_reviews\", con=engine)"
   ]
  },
  {
   "cell_type": "markdown",
   "metadata": {},
   "source": [
    "#### Construct a `SQLDatabase` index\n",
    "\n",
    "Source Code Here:\n",
    "- [`SQLDatabase`](https://github.com/jerryjliu/llama_index/blob/d24767b0812ac56104497d8f59095eccbe9f2b08/llama_index/langchain_helpers/sql_wrapper.py#L9)"
   ]
  },
  {
   "cell_type": "code",
   "execution_count": 92,
   "metadata": {},
   "outputs": [],
   "source": [
    "from llama_index import SQLDatabase\n",
    "\n",
    "tables=[\"barbie_reviews\", \"opp_reviews\"]\n",
    "sql_database = SQLDatabase(\n",
    "    engine=engine,\n",
    "    include_tables=tables) # YOUR CODE HERE)"
   ]
  },
  {
   "cell_type": "markdown",
   "metadata": {},
   "source": [
    "#### Create the NLSQLTableQueryEngine interface for all added SQL tables\n",
    "\n",
    "Source Code Here:\n",
    "- [`NLSQLTableQueryEngine`](https://github.com/jerryjliu/llama_index/blob/d24767b0812ac56104497d8f59095eccbe9f2b08/llama_index/indices/struct_store/sql_query.py#L75C1-L75C1)"
   ]
  },
  {
   "cell_type": "code",
   "execution_count": 93,
   "metadata": {},
   "outputs": [],
   "source": [
    "from llama_index.indices.struct_store.sql_query import NLSQLTableQueryEngine\n",
    "\n",
    "sql_query_engine = NLSQLTableQueryEngine(\n",
    "    sql_database=sql_database,  # YOUR CODE HERE,\n",
    "    tables=tables               # YOUR CODE HERE\n",
    ")"
   ]
  },
  {
   "cell_type": "markdown",
   "metadata": {},
   "source": [
    "#### Wrap It All Up in a `QueryEngineTool`\n",
    "\n",
    "You'll want to ensure you have a descriptive...description. \n",
    "\n",
    "An example is provided here:\n",
    "\n",
    "```\n",
    "\"Useful for translating a natural language query into a SQL query over a table containing: \"\n",
    "\"barbie, containing information related to reviews of the Barbie movie\"\n",
    "\"oppenheimer, containing information related to reviews of the Oppenheimer movie\"\n",
    "```\n",
    "\n",
    "Sorce Code Here: \n",
    "\n",
    "- [`QueryEngineTool`](https://github.com/jerryjliu/llama_index/blob/d24767b0812ac56104497d8f59095eccbe9f2b08/llama_index/tools/query_engine.py#L13)"
   ]
  },
  {
   "cell_type": "code",
   "execution_count": 94,
   "metadata": {},
   "outputs": [],
   "source": [
    "from llama_index.tools.query_engine import QueryEngineTool\n",
    "\n",
    "sql_tool = QueryEngineTool.from_defaults(\n",
    "    query_engine=sql_query_engine,            # YOUR CODE HERE,\n",
    "    name=\"barbenheimer-sql-query-engine\",     # Add a name here,\n",
    "    description=(\n",
    "        \"\"\"\n",
    "        Useful for translating a natural language query into a SQL query query over a table containing:\n",
    "        barbie, containing information related to reviews of the Barbe Movie\n",
    "        oppenheimer, containing information related to reviews of the Oppenheimer Movie\n",
    "        \"\"\"\n",
    "    ),\n",
    ")"
   ]
  },
  {
   "cell_type": "code",
   "execution_count": 95,
   "metadata": {},
   "outputs": [],
   "source": [
    "agent = OpenAIAgent.from_tools([sql_tool])"
   ]
  },
  {
   "cell_type": "code",
   "execution_count": null,
   "metadata": {},
   "outputs": [],
   "source": [
    "response = agent.chat(\"What is the average rating of the two films?\")"
   ]
  },
  {
   "cell_type": "code",
   "execution_count": 97,
   "metadata": {},
   "outputs": [
    {
     "name": "stdout",
     "output_type": "stream",
     "text": [
      "The average rating for the Barbie film is 7.36, while the average rating for the Oppenheimer film is 8.35.\n"
     ]
    }
   ],
   "source": [
    "print(str(response))"
   ]
  },
  {
   "cell_type": "markdown",
   "metadata": {},
   "source": [
    "### Combining The Tools Together\n",
    "\n",
    "Now, we can simple add our tools into the `OpenAIAgent`, and off we go!"
   ]
  },
  {
   "cell_type": "code",
   "execution_count": 98,
   "metadata": {},
   "outputs": [],
   "source": [
    "barbenheimer_agent = OpenAIAgent.from_tools(\n",
    "    [auto_retrieve_tool, sql_tool]\n",
    ")"
   ]
  },
  {
   "cell_type": "code",
   "execution_count": 103,
   "metadata": {},
   "outputs": [
    {
     "name": "stdout",
     "output_type": "stream",
     "text": [
      "INFO:llama_index.indices.struct_store.sql_query:> Table desc str: Table 'barbie_reviews' has columns: index (BIGINT), Unnamed: 0 (BIGINT), Review_Date (TEXT), Author (TEXT), Rating (FLOAT), Review_Title (TEXT), Review (TEXT), Review_Url (TEXT), and foreign keys: .\n",
      "\n",
      "Table 'opp_reviews' has columns: index (BIGINT), Unnamed: 0 (BIGINT), Review_Date (TEXT), Author (TEXT), Rating (FLOAT), Review_Title (TEXT), Review (TEXT), Review_Url (TEXT), and foreign keys: .\n",
      "> Table desc str: Table 'barbie_reviews' has columns: index (BIGINT), Unnamed: 0 (BIGINT), Review_Date (TEXT), Author (TEXT), Rating (FLOAT), Review_Title (TEXT), Review (TEXT), Review_Url (TEXT), and foreign keys: .\n",
      "\n",
      "Table 'opp_reviews' has columns: index (BIGINT), Unnamed: 0 (BIGINT), Review_Date (TEXT), Author (TEXT), Rating (FLOAT), Review_Title (TEXT), Review (TEXT), Review_Url (TEXT), and foreign keys: .\n"
     ]
    }
   ],
   "source": [
    "response = barbenheimer_agent.chat(\"What is the lowest rating of the two films - and can you summarize what the reviewer said?\")"
   ]
  },
  {
   "cell_type": "code",
   "execution_count": 104,
   "metadata": {},
   "outputs": [
    {
     "name": "stdout",
     "output_type": "stream",
     "text": [
      "The lowest rating for both films is 3.0.\n",
      "\n",
      "For the Barbie movie, one of the reviewers mentioned that it lacked science and interesting problem-solving.\n",
      "\n",
      "For the Oppenheimer movie, one of the reviewers mentioned that while the production value, cinematography, and acting were good, the movie fell short in some aspects.\n"
     ]
    }
   ],
   "source": [
    "print(str(response))"
   ]
  },
  {
   "cell_type": "code",
   "execution_count": 105,
   "metadata": {},
   "outputs": [
    {
     "name": "stdout",
     "output_type": "stream",
     "text": [
      "INFO:llama_index.indices.struct_store.sql_query:> Table desc str: Table 'barbie_reviews' has columns: index (BIGINT), Unnamed: 0 (BIGINT), Review_Date (TEXT), Author (TEXT), Rating (FLOAT), Review_Title (TEXT), Review (TEXT), Review_Url (TEXT), and foreign keys: .\n",
      "\n",
      "Table 'opp_reviews' has columns: index (BIGINT), Unnamed: 0 (BIGINT), Review_Date (TEXT), Author (TEXT), Rating (FLOAT), Review_Title (TEXT), Review (TEXT), Review_Url (TEXT), and foreign keys: .\n",
      "> Table desc str: Table 'barbie_reviews' has columns: index (BIGINT), Unnamed: 0 (BIGINT), Review_Date (TEXT), Author (TEXT), Rating (FLOAT), Review_Title (TEXT), Review (TEXT), Review_Url (TEXT), and foreign keys: .\n",
      "\n",
      "Table 'opp_reviews' has columns: index (BIGINT), Unnamed: 0 (BIGINT), Review_Date (TEXT), Author (TEXT), Rating (FLOAT), Review_Title (TEXT), Review (TEXT), Review_Url (TEXT), and foreign keys: .\n"
     ]
    }
   ],
   "source": [
    "response = barbenheimer_agent.chat(\"How many times do the Barbie reviews mention 'Ken', and what is a summary of his character in the Barbie movie?\")"
   ]
  },
  {
   "cell_type": "code",
   "execution_count": 106,
   "metadata": {},
   "outputs": [
    {
     "name": "stdout",
     "output_type": "stream",
     "text": [
      "The Barbie reviews mention \"Ken\" 30 times.\n",
      "\n",
      "As for Ken's character in the Barbie movie, he is portrayed as a supportive and caring partner to Barbie. He accompanies her on her journey of self-discovery and provides emotional support. Ken is depicted as a charming and handsome character who adds depth to the story and contributes to the overall narrative of the film.\n"
     ]
    }
   ],
   "source": [
    "print(str(response))"
   ]
  }
 ],
 "metadata": {
  "kernelspec": {
   "display_name": "Python 3",
   "language": "python",
   "name": "python3"
  },
  "language_info": {
   "codemirror_mode": {
    "name": "ipython",
    "version": 3
   },
   "file_extension": ".py",
   "mimetype": "text/x-python",
   "name": "python",
   "nbconvert_exporter": "python",
   "pygments_lexer": "ipython3",
   "version": "3.11.4"
  },
  "orig_nbformat": 4
 },
 "nbformat": 4,
 "nbformat_minor": 2
}
